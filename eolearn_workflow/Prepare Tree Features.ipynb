{
 "cells": [
  {
   "cell_type": "markdown",
   "metadata": {},
   "source": [
    "### Features\n",
    "\n",
    "- NDVI # done\n",
    "- Stats per band\n",
    "    - mean\n",
    "    - median\n",
    "    - mode\n",
    "    - standard deviation\n",
    "- Nearest n neighbours with distances\n",
    "- Texture metrics?\n",
    "- Sample pixel patch\n",
    "- Number of corners\n",
    "- Area\n",
    "- Region\n",
    "- Distance along river\n",
    "- Side of river\n",
    "- Coordinates\n",
    "\n",
    "\n",
    "- eo learn features\n",
    "    - haralick textures\n",
    "    - hog\n",
    "    - temporal features\n",
    "    - "
   ]
  },
  {
   "cell_type": "code",
   "execution_count": 19,
   "metadata": {},
   "outputs": [],
   "source": [
    "import geopandas as gpd\n",
    "import pandas as pd\n",
    "import numpy as np\n",
    "import matplotlib as mpl\n",
    "import matplotlib.pyplot as plt\n",
    "from pathlib import Path\n",
    "import matplotlib.animation as animation\n",
    "\n",
    "import pickle as pkl\n",
    "\n",
    "from enum import Enum\n",
    "\n",
    "from sentinelhub import CRS, BBoxSplitter, BBox\n",
    "\n",
    "from shapely.geometry import Polygon\n",
    "\n",
    "from eolearn.io.local_io import *\n",
    "from contextlib import contextmanager  \n",
    "\n",
    "import rasterio\n",
    "from rasterio import Affine, MemoryFile\n",
    "from rasterio.enums import Resampling\n",
    "\n",
    "\n",
    "# Imports from eo-learn and sentinelhub-py\n",
    "from eolearn.core import EOTask, EOPatch, LinearWorkflow, FeatureType, OverwritePermission, \\\n",
    "    LoadFromDisk, SaveToDisk, EOExecutor\n",
    "from eolearn.io import S2L1CWCSInput, ExportToTiff\n",
    "from eolearn.mask import AddCloudMaskTask, get_s2_pixel_cloud_detector, AddValidDataMaskTask\n",
    "from eolearn.geometry import VectorToRaster, PointSamplingTask, ErosionTask\n",
    "from eolearn.features import LinearInterpolation, SimpleFilterTask, InterpolationTask\n",
    "from sentinelhub import BBoxSplitter, BBox, CRS, CustomUrlParam\n",
    "\n",
    "from tqdm import tqdm \n",
    "\n",
    "%matplotlib inline"
   ]
  },
  {
   "cell_type": "code",
   "execution_count": null,
   "metadata": {},
   "outputs": [],
   "source": [
    "from eolearn.features import HaralickTask, HOGTask, ValueFilloutTask, AddMaxMinNDVISlopeIndicesTask, AddMaxMinTemporalIndicesTask, AddSpatioTemporalFeaturesTask, "
   ]
  },
  {
   "cell_type": "code",
   "execution_count": null,
   "metadata": {},
   "outputs": [],
   "source": [
    "eolearn.features.feature_manipulation.ValueFilloutTask(feature, operations='fb', value=nan, axis=0)"
   ]
  },
  {
   "cell_type": "code",
   "execution_count": 17,
   "metadata": {},
   "outputs": [
    {
     "name": "stdout",
     "output_type": "stream",
     "text": [
      "AAA-example-workflow.ipynb            selected_orange_river_bboxes.dbf\r\n",
      "Check Cloud Masks.ipynb               selected_orange_river_bboxes.prj\r\n",
      "Create Patches.ipynb                  selected_orange_river_bboxes.shp\r\n",
      "\u001b[0m\u001b[01;34meopatches_interpolated_large\u001b[0m/         selected_orange_river_bboxes.shx\r\n",
      "\u001b[01;34meopatches_large_with_ids\u001b[0m/             \u001b[01;34msubmissions\u001b[0m/\r\n",
      "Prepare Training Features.ipynb       \u001b[01;34mtest_patchlets\u001b[0m/\r\n",
      "Prepare Tree Features.ipynb           \u001b[01;34mtraining_patchlets\u001b[0m/\r\n",
      "Prepare Unet Training Features.ipynb  Train Unet Model.ipynb\r\n",
      "selected_orange_river_bboxes.cpg\r\n"
     ]
    }
   ],
   "source": [
    "ls"
   ]
  },
  {
   "cell_type": "code",
   "execution_count": null,
   "metadata": {},
   "outputs": [],
   "source": []
  }
 ],
 "metadata": {
  "kernelspec": {
   "display_name": "Python 3.6 - AzureML",
   "language": "python",
   "name": "python3-azureml"
  },
  "language_info": {
   "codemirror_mode": {
    "name": "ipython",
    "version": 3
   },
   "file_extension": ".py",
   "mimetype": "text/x-python",
   "name": "python",
   "nbconvert_exporter": "python",
   "pygments_lexer": "ipython3",
   "version": "3.6.8"
  }
 },
 "nbformat": 4,
 "nbformat_minor": 2
}
