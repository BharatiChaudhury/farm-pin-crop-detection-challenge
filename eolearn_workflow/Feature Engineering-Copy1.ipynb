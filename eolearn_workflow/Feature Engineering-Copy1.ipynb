{
 "cells": [
  {
   "cell_type": "markdown",
   "metadata": {},
   "source": [
    "### Features\n",
    "\n",
    "- NDVI\n",
    "- Stats per band\n",
    "    - mean\n",
    "    - median\n",
    "    - mode\n",
    "    - standard deviation\n",
    "- Nearest 3 neighbours\n",
    "- Texture metrics?\n",
    "- Sample pixel patch\n",
    "- Number of corners\n",
    "- Area\n",
    "- Region\n",
    "- Coordinates"
   ]
  },
  {
   "cell_type": "markdown",
   "metadata": {},
   "source": [
    "|Band name|Resolution (m)|Central wavelength (nm)|Band width (nm)|Purpose|\n",
    "|--- |--- |--- |--- |--- |\n",
    "|B01|60|443|20|Aerosol detection|\n",
    "|B02|10|490|65|Blue|\n",
    "|B03|10|560|35|Green|\n",
    "|B04|10|665|30|Red|\n",
    "|B05|20|705|15|Vegetation classification|\n",
    "|B06|20|740|15|Vegetation classification|\n",
    "|B07|20|783|20|Vegetation classification|\n",
    "|B08|10|842|115|Near infrared|\n",
    "|B08A|20|865|20|Vegetation classification|\n",
    "|B09|60|945|20|Water vapour|\n",
    "|B10|60|1375|30|Cirrus|\n",
    "|B11|20|1610|90|Snow / ice / cloud discrimination|\n",
    "|B12|20|2190|180|Snow / ice / cloud discrimination|\n"
   ]
  },
  {
   "cell_type": "markdown",
   "metadata": {},
   "source": [
    "### Imports"
   ]
  },
  {
   "cell_type": "code",
   "execution_count": 1,
   "metadata": {},
   "outputs": [],
   "source": [
    "import numpy as np\n",
    "import pandas as pd\n",
    "import geopandas as gpd\n",
    "\n",
    "from shapely.ops import nearest_points\n",
    "\n",
    "import pickle as pkl\n",
    "from pathlib import Path\n",
    "from joblib import Parallel, delayed\n",
    "from tqdm import tqdm\n",
    "\n",
    "from skimage.feature import greycomatrix, greycoprops\n",
    "from functools import partial\n",
    "\n",
    "import dask.dataframe as dd\n",
    "from dask.multiprocessing import get"
   ]
  },
  {
   "cell_type": "markdown",
   "metadata": {},
   "source": [
    "### Paths"
   ]
  },
  {
   "cell_type": "code",
   "execution_count": 7,
   "metadata": {},
   "outputs": [],
   "source": [
    "data_path = Path('.').resolve()"
   ]
  },
  {
   "cell_type": "markdown",
   "metadata": {},
   "source": [
    "### Load single mask dictionary"
   ]
  },
  {
   "cell_type": "code",
   "execution_count": 8,
   "metadata": {},
   "outputs": [],
   "source": [
    "single_array_dict = pkl.load(open(data_path/'single_array_dict.pkl','rb'))"
   ]
  },
  {
   "cell_type": "code",
   "execution_count": 15,
   "metadata": {},
   "outputs": [
    {
     "data": {
      "text/plain": [
       "(1, 4, 3)"
      ]
     },
     "execution_count": 15,
     "metadata": {},
     "output_type": "execute_result"
    }
   ],
   "source": [
    "single_array_dict[keys[0]].shape"
   ]
  },
  {
   "cell_type": "code",
   "execution_count": 11,
   "metadata": {},
   "outputs": [],
   "source": [
    "keys = list(single_array_dict.keys())"
   ]
  },
  {
   "cell_type": "code",
   "execution_count": 12,
   "metadata": {},
   "outputs": [
    {
     "data": {
      "text/plain": [
       "['19/T34JEP/20170101T082332/B01',\n",
       " '20/T34JEP/20170101T082332/B01',\n",
       " '21/T34JEP/20170101T082332/B01',\n",
       " '22/T34JEP/20170101T082332/B01',\n",
       " '24/T34JEP/20170101T082332/B01']"
      ]
     },
     "execution_count": 12,
     "metadata": {},
     "output_type": "execute_result"
    }
   ],
   "source": [
    "keys[:5]"
   ]
  },
  {
   "cell_type": "code",
   "execution_count": 6,
   "metadata": {},
   "outputs": [],
   "source": [
    "field_ids = {int(k.split('/')[0]) for k in keys}\n",
    "tiles = {k.split('/')[1] for k in keys}\n",
    "dates = {k.split('/')[2] for k in keys}\n",
    "bands = {k.split('/')[3] for k in keys}"
   ]
  },
  {
   "cell_type": "code",
   "execution_count": 7,
   "metadata": {},
   "outputs": [
    {
     "data": {
      "text/plain": [
       "(3568, 2, 11, 13)"
      ]
     },
     "execution_count": 7,
     "metadata": {},
     "output_type": "execute_result"
    }
   ],
   "source": [
    "len(field_ids), len(tiles), len(dates), len(bands)"
   ]
  },
  {
   "cell_type": "markdown",
   "metadata": {},
   "source": [
    "### Load shape file"
   ]
  },
  {
   "cell_type": "code",
   "execution_count": 8,
   "metadata": {},
   "outputs": [],
   "source": [
    "train_test_gpdf = gpd.read_file(data_path/'train_test_shp')"
   ]
  },
  {
   "cell_type": "code",
   "execution_count": 9,
   "metadata": {},
   "outputs": [
    {
     "data": {
      "text/html": [
       "<div>\n",
       "<style scoped>\n",
       "    .dataframe tbody tr th:only-of-type {\n",
       "        vertical-align: middle;\n",
       "    }\n",
       "\n",
       "    .dataframe tbody tr th {\n",
       "        vertical-align: top;\n",
       "    }\n",
       "\n",
       "    .dataframe thead th {\n",
       "        text-align: right;\n",
       "    }\n",
       "</style>\n",
       "<table border=\"1\" class=\"dataframe\">\n",
       "  <thead>\n",
       "    <tr style=\"text-align: right;\">\n",
       "      <th></th>\n",
       "      <th>Area</th>\n",
       "      <th>Crop_Id_Ne</th>\n",
       "      <th>Field_Id</th>\n",
       "      <th>Subregion</th>\n",
       "      <th>train_test</th>\n",
       "      <th>tile</th>\n",
       "      <th>geometry</th>\n",
       "    </tr>\n",
       "  </thead>\n",
       "  <tbody>\n",
       "    <tr>\n",
       "      <td>0</td>\n",
       "      <td>0.915905</td>\n",
       "      <td>8</td>\n",
       "      <td>1</td>\n",
       "      <td>3</td>\n",
       "      <td>train</td>\n",
       "      <td>T34JFP</td>\n",
       "      <td>POLYGON ((613924.3324000851 6793991.295069702,...</td>\n",
       "    </tr>\n",
       "    <tr>\n",
       "      <td>1</td>\n",
       "      <td>2.064410</td>\n",
       "      <td>6</td>\n",
       "      <td>2</td>\n",
       "      <td>3</td>\n",
       "      <td>train</td>\n",
       "      <td>T34JFP</td>\n",
       "      <td>POLYGON ((614404.0717397591 6794020.579634549,...</td>\n",
       "    </tr>\n",
       "    <tr>\n",
       "      <td>2</td>\n",
       "      <td>1.080300</td>\n",
       "      <td>8</td>\n",
       "      <td>3</td>\n",
       "      <td>3</td>\n",
       "      <td>train</td>\n",
       "      <td>T34JFP</td>\n",
       "      <td>POLYGON ((614320.2146632321 6793964.242091182,...</td>\n",
       "    </tr>\n",
       "    <tr>\n",
       "      <td>3</td>\n",
       "      <td>1.316190</td>\n",
       "      <td>8</td>\n",
       "      <td>4</td>\n",
       "      <td>3</td>\n",
       "      <td>train</td>\n",
       "      <td>T34JFP</td>\n",
       "      <td>POLYGON ((614560.5326844405 6794002.249461887,...</td>\n",
       "    </tr>\n",
       "    <tr>\n",
       "      <td>4</td>\n",
       "      <td>5.529220</td>\n",
       "      <td>8</td>\n",
       "      <td>7</td>\n",
       "      <td>3</td>\n",
       "      <td>train</td>\n",
       "      <td>T34JFP</td>\n",
       "      <td>POLYGON ((614596.6564746551 6794269.865436315,...</td>\n",
       "    </tr>\n",
       "  </tbody>\n",
       "</table>\n",
       "</div>"
      ],
      "text/plain": [
       "       Area Crop_Id_Ne  Field_Id  Subregion train_test    tile  \\\n",
       "0  0.915905          8         1          3      train  T34JFP   \n",
       "1  2.064410          6         2          3      train  T34JFP   \n",
       "2  1.080300          8         3          3      train  T34JFP   \n",
       "3  1.316190          8         4          3      train  T34JFP   \n",
       "4  5.529220          8         7          3      train  T34JFP   \n",
       "\n",
       "                                            geometry  \n",
       "0  POLYGON ((613924.3324000851 6793991.295069702,...  \n",
       "1  POLYGON ((614404.0717397591 6794020.579634549,...  \n",
       "2  POLYGON ((614320.2146632321 6793964.242091182,...  \n",
       "3  POLYGON ((614560.5326844405 6794002.249461887,...  \n",
       "4  POLYGON ((614596.6564746551 6794269.865436315,...  "
      ]
     },
     "execution_count": 9,
     "metadata": {},
     "output_type": "execute_result"
    }
   ],
   "source": [
    "train_test_gpdf.head()"
   ]
  },
  {
   "cell_type": "markdown",
   "metadata": {},
   "source": [
    "### Add NDVI"
   ]
  },
  {
   "cell_type": "code",
   "execution_count": 10,
   "metadata": {},
   "outputs": [],
   "source": [
    "def calc_ndvi(f):\n",
    "    t = train_test_gpdf[train_test_gpdf.Field_Id==f].tile.values[0]\n",
    "    available_tiles = [t] if len(t) == 6 else [t[:6], t[6:]]\n",
    "    for d in dates:\n",
    "        for t in available_tiles:\n",
    "            k_red = f'{f}/{t}/{d}/B04'\n",
    "            k_nir = f'{f}/{t}/{d}/B08'\n",
    "            k_ndvi = f'{f}/{t}/{d}/NDVI'\n",
    "            ndvi = ((single_array_dict[k_nir] - single_array_dict[k_red])/\n",
    "                    (single_array_dict[k_nir] + single_array_dict[k_red]))\n",
    "            single_array_dict[k_ndvi] = ndvi"
   ]
  },
  {
   "cell_type": "code",
   "execution_count": 11,
   "metadata": {
    "scrolled": true
   },
   "outputs": [
    {
     "name": "stderr",
     "output_type": "stream",
     "text": [
      "100%|██████████| 3568/3568 [00:17<00:00, 202.94it/s]\n"
     ]
    }
   ],
   "source": [
    "Parallel(n_jobs=-1, require='sharedmem')(delayed(calc_ndvi)(f) for f in tqdm(field_ids));"
   ]
  },
  {
   "cell_type": "markdown",
   "metadata": {},
   "source": [
    "### Write single arrays with NDVI"
   ]
  },
  {
   "cell_type": "code",
   "execution_count": 12,
   "metadata": {},
   "outputs": [],
   "source": [
    "pkl.dump(single_array_dict,open(data_path/'single_array_dict_with_ndvi.pkl','wb'))"
   ]
  },
  {
   "cell_type": "code",
   "execution_count": 13,
   "metadata": {},
   "outputs": [],
   "source": [
    "keys=list(single_array_dict.keys())"
   ]
  },
  {
   "cell_type": "markdown",
   "metadata": {},
   "source": [
    "### Compute statistics for each band"
   ]
  },
  {
   "cell_type": "code",
   "execution_count": 14,
   "metadata": {},
   "outputs": [],
   "source": [
    "max_B02 = []\n",
    "max_B03 = []\n",
    "max_B04 = []\n",
    "max_B08 = []\n",
    "\n",
    "def calc_maxes(f):\n",
    "    t = train_test_gpdf[train_test_gpdf.Field_Id==f].tile.values[0]\n",
    "    available_tiles = [t] if len(t) == 6 else [t[:6], t[6:]]\n",
    "    for d in dates:\n",
    "        for t in available_tiles:\n",
    "            k = f'{f}/{t}/{d}'\n",
    "            max_B02.append(single_array_dict[f'{k}/B02'].max())\n",
    "            max_B03.append(single_array_dict[f'{k}/B03'].max())\n",
    "            max_B04.append(single_array_dict[f'{k}/B04'].max())\n",
    "            max_B08.append(single_array_dict[f'{k}/B08'].max())"
   ]
  },
  {
   "cell_type": "code",
   "execution_count": 15,
   "metadata": {},
   "outputs": [
    {
     "name": "stderr",
     "output_type": "stream",
     "text": [
      "100%|██████████| 3568/3568 [00:16<00:00, 210.02it/s]\n"
     ]
    }
   ],
   "source": [
    "Parallel(n_jobs=-1, require='sharedmem')(delayed(calc_maxes)(f) for f in tqdm(field_ids));"
   ]
  },
  {
   "cell_type": "code",
   "execution_count": 16,
   "metadata": {},
   "outputs": [
    {
     "name": "stderr",
     "output_type": "stream",
     "text": [
      "/anaconda/envs/py36/lib/python3.6/site-packages/ipykernel/__main__.py:2: UserWarning: Warning: converting a masked element to nan.\n",
      "  from ipykernel import kernelapp as app\n",
      "/anaconda/envs/py36/lib/python3.6/site-packages/ipykernel/__main__.py:3: UserWarning: Warning: converting a masked element to nan.\n",
      "  app.launch_new_instance()\n",
      "/anaconda/envs/py36/lib/python3.6/site-packages/ipykernel/__main__.py:4: UserWarning: Warning: converting a masked element to nan.\n",
      "/anaconda/envs/py36/lib/python3.6/site-packages/ipykernel/__main__.py:5: UserWarning: Warning: converting a masked element to nan.\n"
     ]
    }
   ],
   "source": [
    "max_per_band = dict()\n",
    "max_per_band['B02'] = int(np.nanmax(np.array(max_B02))+1)\n",
    "max_per_band['B03'] = int(np.nanmax(np.array(max_B03))+1)\n",
    "max_per_band['B04'] = int(np.nanmax(np.array(max_B04))+1)\n",
    "max_per_band['B08'] = int(np.nanmax(np.array(max_B08))+1)"
   ]
  },
  {
   "cell_type": "code",
   "execution_count": 17,
   "metadata": {},
   "outputs": [],
   "source": [
    "levels = {b: max_per_band[b]//100+1 for b in max_per_band.keys()}"
   ]
  },
  {
   "cell_type": "code",
   "execution_count": 18,
   "metadata": {},
   "outputs": [
    {
     "name": "stdout",
     "output_type": "stream",
     "text": [
      "{'B02': 52, 'B03': 51, 'B04': 56, 'B08': 68}\n"
     ]
    }
   ],
   "source": [
    "print(levels)"
   ]
  },
  {
   "cell_type": "code",
   "execution_count": 19,
   "metadata": {},
   "outputs": [],
   "source": [
    "texture_features = ['dissimilarity', 'contrast', 'homogeneity', 'energy', 'correlation']"
   ]
  },
  {
   "cell_type": "code",
   "execution_count": 20,
   "metadata": {},
   "outputs": [],
   "source": [
    "def calc_statistics(key):\n",
    "    f, t, d, b = key.split('/')\n",
    "    ma = single_array_dict[key]\n",
    "    stats = dict()\n",
    "    stats['Field_Id'] = f\n",
    "    stats['tile'] = t \n",
    "    stats['date'] = d\n",
    "    stats['band'] = b\n",
    "    stats['std'] = ma.std()\n",
    "    stats['mean'] = ma.mean()\n",
    "    stats['median'] = np.percentile(ma,50)\n",
    "    stats['min'] =  ma.min()\n",
    "    \n",
    "    mamax = ma.max()\n",
    "    stats['max'] =  mamax\n",
    "    \n",
    "    if b in ['B02','B03','B04','B08']:\n",
    "        arr = ma.filled(0).squeeze(axis=0)//10\n",
    "        gcm = greycomatrix(arr,[1],[0],max_per_band[b]//10+1)[1:, 1:, :, :] \n",
    "        for tf in texture_features:\n",
    "            stats[tf] = greycoprops(gcm, tf).squeeze().item()\n",
    "    else:\n",
    "        for tf in texture_features:\n",
    "            stats[tf] = None\n",
    "\n",
    "    return stats"
   ]
  },
  {
   "cell_type": "code",
   "execution_count": null,
   "metadata": {},
   "outputs": [],
   "source": [
    "%%time \n",
    "stats_dicts = [calc_statistics(k) for k in tqdm(keys)]"
   ]
  },
  {
   "cell_type": "code",
   "execution_count": 21,
   "metadata": {},
   "outputs": [],
   "source": [
    "stat_columns = ['Field_Id', \n",
    "                'tile', \n",
    "                'date', \n",
    "                'band', \n",
    "                'std', \n",
    "                'mean', \n",
    "                'median', \n",
    "                'min', \n",
    "                'max', \n",
    "                'dissimilarity', \n",
    "                'contrast', \n",
    "                'homogeneity', \n",
    "                'energy', \n",
    "                'correlation']"
   ]
  },
  {
   "cell_type": "code",
   "execution_count": null,
   "metadata": {},
   "outputs": [],
   "source": [
    "stats_df = pd.DataFrame(stats_dicts, columns = stat_columns)"
   ]
  },
  {
   "cell_type": "code",
   "execution_count": null,
   "metadata": {},
   "outputs": [],
   "source": [
    "stats_df.to_csv(data_path/'statistics_per_band.csv', index=False)"
   ]
  },
  {
   "cell_type": "code",
   "execution_count": 23,
   "metadata": {},
   "outputs": [],
   "source": [
    "stats_df = pd.read_csv(data_path/'statistics_per_band.csv')"
   ]
  },
  {
   "cell_type": "markdown",
   "metadata": {},
   "source": [
    "### Centroid"
   ]
  },
  {
   "cell_type": "code",
   "execution_count": 24,
   "metadata": {},
   "outputs": [],
   "source": [
    "def get_centroidx(g): return g.centroid.xy[0][0]\n",
    "\n",
    "def get_centroidy(g): return g.centroid.xy[1][0]\n",
    "\n",
    "def get_centroid(g): return g.centroid\n",
    "\n",
    "train_test_gpdf['centroid']=train_test_gpdf.geometry.apply(get_centroid)\n",
    "train_test_gpdf['centroid_x']=train_test_gpdf.geometry.apply(get_centroidx)\n",
    "train_test_gpdf['centroid_y']=train_test_gpdf.geometry.apply(get_centroidy)"
   ]
  },
  {
   "cell_type": "markdown",
   "metadata": {},
   "source": [
    "### Nearest neighbouring farms"
   ]
  },
  {
   "cell_type": "code",
   "execution_count": 44,
   "metadata": {},
   "outputs": [],
   "source": [
    "def nearest(row, geom_union, df2, geom1_col='geometry', geom2_col='geometry', src_column=None): \n",
    "    \"\"\"Find the nearest point and return the corresponding value from specified column.\"\"\"\n",
    "\n",
    "    # Find the geometry that is closest\n",
    "    nearest = df2[geom2_col] == nearest_points(row[geom1_col], geom_union)[1]\n",
    "\n",
    "    # Get the corresponding value from df2 (matching is based on the geometry)\n",
    "    value = df2[nearest][src_column].get_values()[0]\n",
    "\n",
    "    return value\n",
    "\n",
    "def nearest_Field(row, gpdf): \n",
    "    mask = ((gpdf.Field_Id!=row.Field_Id)\n",
    "            &(gpdf.train_test=='train'))\n",
    "    return nearest(row, \n",
    "                   geom_union=gpdf[mask].centroid.unary_union, \n",
    "                   df2=gpdf, \n",
    "                   geom1_col='centroid', \n",
    "                   geom2_col='centroid', \n",
    "                   src_column='Field_Id')\n",
    "\n",
    "def second_nearest_Field(row, gpdf): \n",
    "    mask = ((gpdf.Field_Id!=row.Field_Id)\n",
    "            &(gpdf.Field_Id!=row.Field_Id_1)\n",
    "            &(gpdf.train_test=='train'))\n",
    "    return nearest(row, \n",
    "                   geom_union=gpdf[mask].centroid.unary_union, \n",
    "                   df2=gpdf, \n",
    "                   geom1_col='centroid', \n",
    "                   geom2_col='centroid', \n",
    "                   src_column='Field_Id')\n",
    "\n",
    "def third_nearest_Field(row, gpdf): \n",
    "    mask = ((gpdf.Field_Id!=row.Field_Id)\n",
    "            &(gpdf.Field_Id!=row.Field_Id_1)\n",
    "            &(gpdf.Field_Id!=row.Field_Id_2)\n",
    "            &(gpdf.train_test=='train'))\n",
    "    return nearest(row, \n",
    "                   geom_union=gpdf[mask].centroid.unary_union, \n",
    "                   df2=gpdf, \n",
    "                   geom1_col='centroid', \n",
    "                   geom2_col='centroid', \n",
    "                   src_column='Field_Id')\n",
    "\n",
    "def fourth_nearest_Field(row, gpdf): \n",
    "    mask = ((gpdf.Field_Id!=row.Field_Id)\n",
    "            &(gpdf.Field_Id!=row.Field_Id_1)\n",
    "            &(gpdf.Field_Id!=row.Field_Id_2)\n",
    "            &(gpdf.Field_Id!=row.Field_Id_3)\n",
    "            &(gpdf.train_test=='train'))\n",
    "    return nearest(row, \n",
    "                   geom_union=gpdf[mask].centroid.unary_union, \n",
    "                   df2=gpdf, \n",
    "                   geom1_col='centroid', \n",
    "                   geom2_col='centroid', \n",
    "                   src_column='Field_Id')\n",
    "\n",
    "def fifth_nearest_Field(row, gpdf): \n",
    "    mask = ((gpdf.Field_Id!=row.Field_Id)\n",
    "            &(gpdf.Field_Id!=row.Field_Id_1)\n",
    "            &(gpdf.Field_Id!=row.Field_Id_2)\n",
    "            &(gpdf.Field_Id!=row.Field_Id_3)\n",
    "            &(gpdf.Field_Id!=row.Field_Id_4)\n",
    "            &(gpdf.train_test=='train'))\n",
    "    return nearest(row, \n",
    "                   geom_union=gpdf[mask].centroid.unary_union, \n",
    "                   df2=gpdf, \n",
    "                   geom1_col='centroid', \n",
    "                   geom2_col='centroid', \n",
    "                   src_column='Field_Id')\n",
    "\n",
    "def sixth_nearest_Field(row, gpdf): \n",
    "    mask = ((gpdf.Field_Id!=row.Field_Id)\n",
    "            &(gpdf.Field_Id!=row.Field_Id_1)\n",
    "            &(gpdf.Field_Id!=row.Field_Id_2)\n",
    "            &(gpdf.Field_Id!=row.Field_Id_3)\n",
    "            &(gpdf.Field_Id!=row.Field_Id_4)\n",
    "            &(gpdf.Field_Id!=row.Field_Id_5)\n",
    "            &(gpdf.train_test=='train'))\n",
    "    return nearest(row, \n",
    "                   geom_union=gpdf[mask].centroid.unary_union, \n",
    "                   df2=gpdf, \n",
    "                   geom1_col='centroid', \n",
    "                   geom2_col='centroid', \n",
    "                   src_column='Field_Id')\n",
    "\n",
    "\n",
    "def seventh_nearest_Field(row, gpdf): \n",
    "    mask = ((gpdf.Field_Id!=row.Field_Id)\n",
    "            &(gpdf.Field_Id!=row.Field_Id_1)\n",
    "            &(gpdf.Field_Id!=row.Field_Id_2)\n",
    "            &(gpdf.Field_Id!=row.Field_Id_3)\n",
    "            &(gpdf.Field_Id!=row.Field_Id_4)\n",
    "            &(gpdf.Field_Id!=row.Field_Id_5)\n",
    "            &(gpdf.Field_Id!=row.Field_Id_6)\n",
    "            &(gpdf.train_test=='train'))\n",
    "    return nearest(row, \n",
    "                   geom_union=gpdf[mask].centroid.unary_union, \n",
    "                   df2=gpdf, \n",
    "                   geom1_col='centroid', \n",
    "                   geom2_col='centroid', \n",
    "                   src_column='Field_Id')\n",
    "\n",
    "\n",
    "def eighth_nearest_Field(row, gpdf): \n",
    "    mask = ((gpdf.Field_Id!=row.Field_Id)\n",
    "            &(gpdf.Field_Id!=row.Field_Id_1)\n",
    "            &(gpdf.Field_Id!=row.Field_Id_2)\n",
    "            &(gpdf.Field_Id!=row.Field_Id_3)\n",
    "            &(gpdf.Field_Id!=row.Field_Id_4)\n",
    "            &(gpdf.Field_Id!=row.Field_Id_5)\n",
    "            &(gpdf.Field_Id!=row.Field_Id_6)\n",
    "            &(gpdf.Field_Id!=row.Field_Id_7)\n",
    "            &(gpdf.train_test=='train'))\n",
    "    return nearest(row, \n",
    "                   geom_union=gpdf[mask].centroid.unary_union, \n",
    "                   df2=gpdf, \n",
    "                   geom1_col='centroid', \n",
    "                   geom2_col='centroid', \n",
    "                   src_column='Field_Id')\n",
    "\n",
    "\n",
    "def ninth_nearest_Field(row, gpdf): \n",
    "    mask = ((gpdf.Field_Id!=row.Field_Id)\n",
    "            &(gpdf.Field_Id!=row.Field_Id_1)\n",
    "            &(gpdf.Field_Id!=row.Field_Id_2)\n",
    "            &(gpdf.Field_Id!=row.Field_Id_3)\n",
    "            &(gpdf.Field_Id!=row.Field_Id_4)\n",
    "            &(gpdf.Field_Id!=row.Field_Id_5)\n",
    "            &(gpdf.Field_Id!=row.Field_Id_6)\n",
    "            &(gpdf.Field_Id!=row.Field_Id_7)\n",
    "            &(gpdf.Field_Id!=row.Field_Id_8)\n",
    "            &(gpdf.train_test=='train'))\n",
    "    return nearest(row, \n",
    "                   geom_union=gpdf[mask].centroid.unary_union, \n",
    "                   df2=gpdf, \n",
    "                   geom1_col='centroid', \n",
    "                   geom2_col='centroid', \n",
    "                   src_column='Field_Id')\n",
    "\n",
    "\n",
    "def tenth_nearest_Field(row, gpdf): \n",
    "    mask = ((gpdf.Field_Id!=row.Field_Id)\n",
    "            &(gpdf.Field_Id!=row.Field_Id_1)\n",
    "            &(gpdf.Field_Id!=row.Field_Id_2)\n",
    "            &(gpdf.Field_Id!=row.Field_Id_3)\n",
    "            &(gpdf.Field_Id!=row.Field_Id_4)\n",
    "            &(gpdf.Field_Id!=row.Field_Id_5)\n",
    "            &(gpdf.Field_Id!=row.Field_Id_6)\n",
    "            &(gpdf.Field_Id!=row.Field_Id_7)\n",
    "            &(gpdf.Field_Id!=row.Field_Id_8)\n",
    "            &(gpdf.Field_Id!=row.Field_Id_9)\n",
    "            &(gpdf.train_test=='train'))\n",
    "    return nearest(row, \n",
    "                   geom_union=gpdf[mask].centroid.unary_union, \n",
    "                   df2=gpdf, \n",
    "                   geom1_col='centroid', \n",
    "                   geom2_col='centroid', \n",
    "                   src_column='Field_Id')"
   ]
  },
  {
   "cell_type": "code",
   "execution_count": 26,
   "metadata": {},
   "outputs": [
    {
     "name": "stderr",
     "output_type": "stream",
     "text": [
      "/anaconda/envs/py36/lib/python3.6/site-packages/ipykernel/__main__.py:8: FutureWarning: The 'get_values' method is deprecated and will be removed in a future version. Use '.to_numpy()' or '.array' instead.\n"
     ]
    },
    {
     "name": "stdout",
     "output_type": "stream",
     "text": [
      "CPU times: user 8min 29s, sys: 0 ns, total: 8min 29s\n",
      "Wall time: 8min 29s\n"
     ]
    }
   ],
   "source": [
    "%%time\n",
    "train_test_gpdf['Field_Id_1'] = train_test_gpdf.apply(\n",
    "    partial(nearest_Field, gpdf=train_test_gpdf), axis=1)"
   ]
  },
  {
   "cell_type": "code",
   "execution_count": 27,
   "metadata": {},
   "outputs": [
    {
     "name": "stderr",
     "output_type": "stream",
     "text": [
      "/anaconda/envs/py36/lib/python3.6/site-packages/ipykernel/__main__.py:8: FutureWarning: The 'get_values' method is deprecated and will be removed in a future version. Use '.to_numpy()' or '.array' instead.\n"
     ]
    },
    {
     "name": "stdout",
     "output_type": "stream",
     "text": [
      "CPU times: user 8min 7s, sys: 0 ns, total: 8min 7s\n",
      "Wall time: 8min 8s\n"
     ]
    }
   ],
   "source": [
    "%%time\n",
    "train_test_gpdf['Field_Id_2'] = train_test_gpdf.apply(\n",
    "    partial(second_nearest_Field, gpdf=train_test_gpdf), axis=1)"
   ]
  },
  {
   "cell_type": "code",
   "execution_count": 28,
   "metadata": {},
   "outputs": [
    {
     "name": "stderr",
     "output_type": "stream",
     "text": [
      "/anaconda/envs/py36/lib/python3.6/site-packages/ipykernel/__main__.py:8: FutureWarning: The 'get_values' method is deprecated and will be removed in a future version. Use '.to_numpy()' or '.array' instead.\n"
     ]
    },
    {
     "name": "stdout",
     "output_type": "stream",
     "text": [
      "CPU times: user 8min 3s, sys: 0 ns, total: 8min 3s\n",
      "Wall time: 8min 8s\n"
     ]
    }
   ],
   "source": [
    "%%time\n",
    "train_test_gpdf['Field_Id_3'] = train_test_gpdf.apply(\n",
    "    partial(third_nearest_Field, gpdf=train_test_gpdf), axis=1)"
   ]
  },
  {
   "cell_type": "code",
   "execution_count": 37,
   "metadata": {},
   "outputs": [
    {
     "name": "stderr",
     "output_type": "stream",
     "text": [
      "/anaconda/envs/py36/lib/python3.6/site-packages/ipykernel/__main__.py:8: FutureWarning: The 'get_values' method is deprecated and will be removed in a future version. Use '.to_numpy()' or '.array' instead.\n"
     ]
    },
    {
     "name": "stdout",
     "output_type": "stream",
     "text": [
      "CPU times: user 7min 56s, sys: 129 ms, total: 7min 56s\n",
      "Wall time: 7min 56s\n"
     ]
    }
   ],
   "source": [
    "%%time\n",
    "train_test_gpdf['Field_Id_4'] = train_test_gpdf.apply(\n",
    "    partial(fourth_nearest_Field, gpdf=train_test_gpdf), axis=1)"
   ]
  },
  {
   "cell_type": "code",
   "execution_count": 38,
   "metadata": {},
   "outputs": [
    {
     "name": "stderr",
     "output_type": "stream",
     "text": [
      "/anaconda/envs/py36/lib/python3.6/site-packages/ipykernel/__main__.py:8: FutureWarning: The 'get_values' method is deprecated and will be removed in a future version. Use '.to_numpy()' or '.array' instead.\n"
     ]
    },
    {
     "name": "stdout",
     "output_type": "stream",
     "text": [
      "CPU times: user 8min 3s, sys: 132 ms, total: 8min 3s\n",
      "Wall time: 8min 3s\n"
     ]
    }
   ],
   "source": [
    "%%time\n",
    "train_test_gpdf['Field_Id_5'] = train_test_gpdf.apply(\n",
    "    partial(fifth_nearest_Field, gpdf=train_test_gpdf), axis=1)"
   ]
  },
  {
   "cell_type": "code",
   "execution_count": 39,
   "metadata": {},
   "outputs": [
    {
     "name": "stderr",
     "output_type": "stream",
     "text": [
      "/anaconda/envs/py36/lib/python3.6/site-packages/ipykernel/__main__.py:8: FutureWarning: The 'get_values' method is deprecated and will be removed in a future version. Use '.to_numpy()' or '.array' instead.\n"
     ]
    },
    {
     "name": "stdout",
     "output_type": "stream",
     "text": [
      "CPU times: user 7min 56s, sys: 86 ms, total: 7min 56s\n",
      "Wall time: 7min 56s\n"
     ]
    }
   ],
   "source": [
    "%%time\n",
    "train_test_gpdf['Field_Id_6'] = train_test_gpdf.apply(\n",
    "    partial(sixth_nearest_Field, gpdf=train_test_gpdf), axis=1)"
   ]
  },
  {
   "cell_type": "code",
   "execution_count": 40,
   "metadata": {},
   "outputs": [
    {
     "name": "stderr",
     "output_type": "stream",
     "text": [
      "/anaconda/envs/py36/lib/python3.6/site-packages/ipykernel/__main__.py:8: FutureWarning: The 'get_values' method is deprecated and will be removed in a future version. Use '.to_numpy()' or '.array' instead.\n"
     ]
    },
    {
     "name": "stdout",
     "output_type": "stream",
     "text": [
      "CPU times: user 7min 58s, sys: 99.8 ms, total: 7min 58s\n",
      "Wall time: 7min 58s\n"
     ]
    }
   ],
   "source": [
    "%%time\n",
    "train_test_gpdf['Field_Id_7'] = train_test_gpdf.apply(\n",
    "    partial(seventh_nearest_Field, gpdf=train_test_gpdf), axis=1)"
   ]
  },
  {
   "cell_type": "code",
   "execution_count": 45,
   "metadata": {},
   "outputs": [
    {
     "name": "stderr",
     "output_type": "stream",
     "text": [
      "/anaconda/envs/py36/lib/python3.6/site-packages/ipykernel/__main__.py:8: FutureWarning: The 'get_values' method is deprecated and will be removed in a future version. Use '.to_numpy()' or '.array' instead.\n"
     ]
    },
    {
     "name": "stdout",
     "output_type": "stream",
     "text": [
      "CPU times: user 8min 12s, sys: 128 ms, total: 8min 12s\n",
      "Wall time: 8min 12s\n"
     ]
    }
   ],
   "source": [
    "%%time\n",
    "train_test_gpdf['Field_Id_8'] = train_test_gpdf.apply(\n",
    "    partial(eighth_nearest_Field, gpdf=train_test_gpdf), axis=1)"
   ]
  },
  {
   "cell_type": "code",
   "execution_count": 46,
   "metadata": {},
   "outputs": [
    {
     "name": "stderr",
     "output_type": "stream",
     "text": [
      "/anaconda/envs/py36/lib/python3.6/site-packages/ipykernel/__main__.py:8: FutureWarning: The 'get_values' method is deprecated and will be removed in a future version. Use '.to_numpy()' or '.array' instead.\n"
     ]
    },
    {
     "name": "stdout",
     "output_type": "stream",
     "text": [
      "CPU times: user 8min 13s, sys: 136 ms, total: 8min 13s\n",
      "Wall time: 8min 13s\n"
     ]
    }
   ],
   "source": [
    "%%time\n",
    "train_test_gpdf['Field_Id_9'] = train_test_gpdf.apply(\n",
    "    partial(ninth_nearest_Field, gpdf=train_test_gpdf), axis=1)"
   ]
  },
  {
   "cell_type": "code",
   "execution_count": 47,
   "metadata": {},
   "outputs": [
    {
     "name": "stderr",
     "output_type": "stream",
     "text": [
      "/anaconda/envs/py36/lib/python3.6/site-packages/ipykernel/__main__.py:8: FutureWarning: The 'get_values' method is deprecated and will be removed in a future version. Use '.to_numpy()' or '.array' instead.\n"
     ]
    },
    {
     "name": "stdout",
     "output_type": "stream",
     "text": [
      "CPU times: user 8min 14s, sys: 164 ms, total: 8min 15s\n",
      "Wall time: 8min 15s\n"
     ]
    }
   ],
   "source": [
    "%%time\n",
    "train_test_gpdf['Field_Id_10'] = train_test_gpdf.apply(\n",
    "    partial(tenth_nearest_Field, gpdf=train_test_gpdf), axis=1)"
   ]
  },
  {
   "cell_type": "code",
   "execution_count": 49,
   "metadata": {},
   "outputs": [],
   "source": [
    "train_test_gpdf[['Field_Id', \n",
    "                  'Field_Id_1', \n",
    "                  'Field_Id_2', \n",
    "                  'Field_Id_3', \n",
    "                  'Field_Id_4', \n",
    "                  'Field_Id_5', \n",
    "                  'Field_Id_6', \n",
    "                  'Field_Id_7', \n",
    "                  'Field_Id_8', \n",
    "                  'Field_Id_9', \n",
    "                  'Field_Id_10']].to_csv(data_path/'nearest_fields.csv', index=False)"
   ]
  },
  {
   "cell_type": "markdown",
   "metadata": {},
   "source": [
    "### Add count of corners"
   ]
  },
  {
   "cell_type": "code",
   "execution_count": 50,
   "metadata": {},
   "outputs": [],
   "source": [
    "def count_corners(r): \n",
    "    return len(r.geometry.boundary.xy[0])-1\n",
    "\n",
    "train_test_gpdf['corners'] = train_test_gpdf.apply(count_corners,axis=1)"
   ]
  },
  {
   "cell_type": "markdown",
   "metadata": {},
   "source": [
    "### Add a metric for how far from square the field is"
   ]
  },
  {
   "cell_type": "code",
   "execution_count": 51,
   "metadata": {},
   "outputs": [],
   "source": [
    "def circ_to_area(r): \n",
    "    return (r.geometry.boundary.length/4)/((r.geometry.area)**.5)\n",
    "\n",
    "train_test_gpdf['squareness'] = train_test_gpdf.apply(circ_to_area,axis=1)"
   ]
  },
  {
   "cell_type": "code",
   "execution_count": 52,
   "metadata": {},
   "outputs": [],
   "source": [
    "def cooerce_float(x):\n",
    "    if '--' in str(x): return 0\n",
    "    else: return float(x)"
   ]
  },
  {
   "cell_type": "code",
   "execution_count": 53,
   "metadata": {},
   "outputs": [],
   "source": [
    "converters = {'std': cooerce_float,\n",
    "            'mean': cooerce_float,\n",
    "            'min': cooerce_float,\n",
    "            'max': cooerce_float}"
   ]
  },
  {
   "cell_type": "markdown",
   "metadata": {},
   "source": [
    "### Flatten statistics dataframe"
   ]
  },
  {
   "cell_type": "code",
   "execution_count": 54,
   "metadata": {},
   "outputs": [],
   "source": [
    "stats_df = pd.read_csv(data_path/'statistics_per_band.csv', converters=converters)"
   ]
  },
  {
   "cell_type": "code",
   "execution_count": 55,
   "metadata": {},
   "outputs": [],
   "source": [
    "stats_no_tiles_df = stats_df.groupby(['Field_Id', 'date', 'band']).agg(np.mean).reset_index()"
   ]
  },
  {
   "cell_type": "code",
   "execution_count": 56,
   "metadata": {},
   "outputs": [],
   "source": [
    "stats_no_tiles_df['date_band'] = stats_no_tiles_df.date + '_' + stats_no_tiles_df.band"
   ]
  },
  {
   "cell_type": "code",
   "execution_count": 57,
   "metadata": {},
   "outputs": [],
   "source": [
    "stats_pivoted_df = stats_no_tiles_df.pivot_table(\n",
    "        index=['Field_Id'], \n",
    "        columns=['date_band'], \n",
    "        values=['std', \n",
    "                'mean', \n",
    "                'median', \n",
    "                'min',\n",
    "                'max', \n",
    "                'dissimilarity', \n",
    "                'contrast', \n",
    "                'homogeneity', \n",
    "                'energy',\n",
    "                'correlation'])"
   ]
  },
  {
   "cell_type": "code",
   "execution_count": 58,
   "metadata": {},
   "outputs": [],
   "source": [
    "stats_pivoted_df.columns = stats_pivoted_df.columns.map('_'.join)"
   ]
  },
  {
   "cell_type": "code",
   "execution_count": 59,
   "metadata": {},
   "outputs": [],
   "source": [
    "stats_pivoted_df.reset_index(inplace=True)"
   ]
  },
  {
   "cell_type": "code",
   "execution_count": 60,
   "metadata": {},
   "outputs": [
    {
     "ename": "NameError",
     "evalue": "name 'nearest_fields_df' is not defined",
     "output_type": "error",
     "traceback": [
      "\u001b[0;31m---------------------------------------------------------------------------\u001b[0m",
      "\u001b[0;31mNameError\u001b[0m                                 Traceback (most recent call last)",
      "\u001b[0;32m<ipython-input-60-2a5199717d98>\u001b[0m in \u001b[0;36m<module>\u001b[0;34m\u001b[0m\n\u001b[0;32m----> 1\u001b[0;31m \u001b[0mtrain_test_gpdf\u001b[0m \u001b[0;34m=\u001b[0m \u001b[0mtrain_test_gpdf\u001b[0m\u001b[0;34m.\u001b[0m\u001b[0mmerge\u001b[0m\u001b[0;34m(\u001b[0m\u001b[0mnearest_fields_df\u001b[0m\u001b[0;34m)\u001b[0m\u001b[0;34m\u001b[0m\u001b[0;34m\u001b[0m\u001b[0m\n\u001b[0m",
      "\u001b[0;31mNameError\u001b[0m: name 'nearest_fields_df' is not defined"
     ]
    }
   ],
   "source": [
    "train_test_gpdf = train_test_gpdf.merge(nearest_fields_df)"
   ]
  },
  {
   "cell_type": "code",
   "execution_count": 63,
   "metadata": {},
   "outputs": [],
   "source": [
    "features_df = train_test_gpdf[['Field_Id', \n",
    "                 'train_test', \n",
    "                 'Crop_Id_Ne', \n",
    "                 'Subregion', \n",
    "                 'tile', \n",
    "                 'Area', \n",
    "                 'corners', \n",
    "                 'squareness',\n",
    "                 'centroid_x',\n",
    "                 'centroid_y',\n",
    "                 'Field_Id_1', \n",
    "                 'Field_Id_2', \n",
    "                 'Field_Id_3',\n",
    "                 'Field_Id_4', \n",
    "                 'Field_Id_5',\n",
    "                 'Field_Id_6', \n",
    "                 'Field_Id_7',\n",
    "                 'Field_Id_8', \n",
    "                 'Field_Id_9',\n",
    "                 'Field_Id_10']]"
   ]
  },
  {
   "cell_type": "code",
   "execution_count": 64,
   "metadata": {},
   "outputs": [],
   "source": [
    "features_df = features_df.merge(\n",
    "                features_df[['Field_Id','Crop_Id_Ne']], \n",
    "                left_on='Field_Id_1', \n",
    "                right_on='Field_Id',\n",
    "                suffixes=['','_nf_1']).drop('Field_Id_nf_1',axis=1)\n",
    "\n",
    "features_df = features_df.merge(\n",
    "                features_df[['Field_Id','Crop_Id_Ne']], \n",
    "                left_on='Field_Id_2', \n",
    "                right_on='Field_Id',\n",
    "                suffixes=['','_nf_2']).drop('Field_Id_nf_2',axis=1)\n",
    "\n",
    "features_df = features_df.merge(\n",
    "                features_df[['Field_Id','Crop_Id_Ne']], \n",
    "                left_on='Field_Id_3', \n",
    "                right_on='Field_Id',\n",
    "                suffixes=['','_nf_3']).drop('Field_Id_nf_3',axis=1)\n",
    "\n",
    "\n",
    "features_df = features_df.merge(\n",
    "                features_df[['Field_Id','Crop_Id_Ne']], \n",
    "                left_on='Field_Id_4', \n",
    "                right_on='Field_Id',\n",
    "                suffixes=['','_nf_4']).drop('Field_Id_nf_4',axis=1)\n",
    "\n",
    "\n",
    "features_df = features_df.merge(\n",
    "                features_df[['Field_Id','Crop_Id_Ne']], \n",
    "                left_on='Field_Id_5', \n",
    "                right_on='Field_Id',\n",
    "                suffixes=['','_nf_5']).drop('Field_Id_nf_5',axis=1)\n",
    "\n",
    "\n",
    "features_df = features_df.merge(\n",
    "                features_df[['Field_Id','Crop_Id_Ne']], \n",
    "                left_on='Field_Id_6', \n",
    "                right_on='Field_Id',\n",
    "                suffixes=['','_nf_6']).drop('Field_Id_nf_6',axis=1)\n",
    "\n",
    "\n",
    "features_df = features_df.merge(\n",
    "                features_df[['Field_Id','Crop_Id_Ne']], \n",
    "                left_on='Field_Id_7', \n",
    "                right_on='Field_Id',\n",
    "                suffixes=['','_nf_7']).drop('Field_Id_nf_7',axis=1)\n",
    "\n",
    "\n",
    "features_df = features_df.merge(\n",
    "                features_df[['Field_Id','Crop_Id_Ne']], \n",
    "                left_on='Field_Id_8', \n",
    "                right_on='Field_Id',\n",
    "                suffixes=['','_nf_8']).drop('Field_Id_nf_8',axis=1)\n",
    "\n",
    "\n",
    "features_df = features_df.merge(\n",
    "                features_df[['Field_Id','Crop_Id_Ne']], \n",
    "                left_on='Field_Id_9', \n",
    "                right_on='Field_Id',\n",
    "                suffixes=['','_nf_9']).drop('Field_Id_nf_9',axis=1)\n",
    "\n",
    "\n",
    "features_df = features_df.merge(\n",
    "                features_df[['Field_Id','Crop_Id_Ne']], \n",
    "                left_on='Field_Id_10', \n",
    "                right_on='Field_Id',\n",
    "                suffixes=['','_nf_10']).drop('Field_Id_nf_10',axis=1)"
   ]
  },
  {
   "cell_type": "markdown",
   "metadata": {},
   "source": [
    "### Compute distances to nearest fields"
   ]
  },
  {
   "cell_type": "code",
   "execution_count": 66,
   "metadata": {},
   "outputs": [],
   "source": [
    "nearest_fields_df = features_df[['Field_Id',\n",
    "                                 'Field_Id_1',\n",
    "                                 'Field_Id_2',\n",
    "                                 'Field_Id_3',\n",
    "                                 'Field_Id_4',\n",
    "                                 'Field_Id_5',\n",
    "                                 'Field_Id_6',\n",
    "                                 'Field_Id_7',\n",
    "                                 'Field_Id_8',\n",
    "                                 'Field_Id_9',\n",
    "                                 'Field_Id_10']]"
   ]
  },
  {
   "cell_type": "code",
   "execution_count": 68,
   "metadata": {},
   "outputs": [],
   "source": [
    "nearest_dist = nearest_fields_df.merge(\n",
    "    stats_pivoted_df).merge(stats_pivoted_df, \n",
    "                            left_on = 'Field_Id_1', \n",
    "                            right_on= 'Field_Id', \n",
    "                            suffixes=['','_other']).drop('Field_Id_other',axis=1)"
   ]
  },
  {
   "cell_type": "code",
   "execution_count": 69,
   "metadata": {},
   "outputs": [],
   "source": [
    "cols = [c for c in nearest_dist if '_other' not in c and 'Field' not in c]\n",
    "other_cols = [c for c in nearest_dist if '_other' in c and 'Field' not in c]\n",
    "\n",
    "def calc_distance(row):\n",
    "    return ((row[cols].values - row[other_cols].values)**2).mean()**.5"
   ]
  },
  {
   "cell_type": "code",
   "execution_count": 70,
   "metadata": {},
   "outputs": [],
   "source": [
    "features_df['distances_to_1'] = nearest_dist.apply(calc_distance, axis=1)"
   ]
  },
  {
   "cell_type": "code",
   "execution_count": 71,
   "metadata": {},
   "outputs": [],
   "source": [
    "nearest_dist = nearest_fields_df.merge(\n",
    "    stats_pivoted_df).merge(stats_pivoted_df, \n",
    "                            left_on = 'Field_Id_2', \n",
    "                            right_on= 'Field_Id', \n",
    "                            suffixes=['','_other']).drop('Field_Id_other',axis=1)"
   ]
  },
  {
   "cell_type": "code",
   "execution_count": 72,
   "metadata": {},
   "outputs": [],
   "source": [
    "features_df['distances_to_2'] = nearest_dist.apply(calc_distance, axis=1)"
   ]
  },
  {
   "cell_type": "code",
   "execution_count": 73,
   "metadata": {},
   "outputs": [],
   "source": [
    "nearest_dist = nearest_fields_df.merge(\n",
    "    stats_pivoted_df).merge(stats_pivoted_df, \n",
    "                            left_on = 'Field_Id_3', \n",
    "                            right_on= 'Field_Id', \n",
    "                            suffixes=['','_other']).drop('Field_Id_other',axis=1)"
   ]
  },
  {
   "cell_type": "code",
   "execution_count": 74,
   "metadata": {},
   "outputs": [],
   "source": [
    "features_df['distances_to_3'] = nearest_dist.apply(calc_distance, axis=1)"
   ]
  },
  {
   "cell_type": "code",
   "execution_count": 75,
   "metadata": {},
   "outputs": [],
   "source": [
    "nearest_dist = nearest_fields_df.merge(\n",
    "    stats_pivoted_df).merge(stats_pivoted_df, \n",
    "                            left_on = 'Field_Id_4', \n",
    "                            right_on= 'Field_Id', \n",
    "                            suffixes=['','_other']).drop('Field_Id_other',axis=1)"
   ]
  },
  {
   "cell_type": "code",
   "execution_count": 76,
   "metadata": {},
   "outputs": [],
   "source": [
    "features_df['distances_to_4'] = nearest_dist.apply(calc_distance, axis=1)"
   ]
  },
  {
   "cell_type": "code",
   "execution_count": 77,
   "metadata": {},
   "outputs": [],
   "source": [
    "nearest_dist = nearest_fields_df.merge(\n",
    "    stats_pivoted_df).merge(stats_pivoted_df, \n",
    "                            left_on = 'Field_Id_5', \n",
    "                            right_on= 'Field_Id', \n",
    "                            suffixes=['','_other']).drop('Field_Id_other',axis=1)"
   ]
  },
  {
   "cell_type": "code",
   "execution_count": 78,
   "metadata": {},
   "outputs": [],
   "source": [
    "features_df['distances_to_5'] = nearest_dist.apply(calc_distance, axis=1)"
   ]
  },
  {
   "cell_type": "code",
   "execution_count": 79,
   "metadata": {},
   "outputs": [],
   "source": [
    "nearest_dist = nearest_fields_df.merge(\n",
    "    stats_pivoted_df).merge(stats_pivoted_df, \n",
    "                            left_on = 'Field_Id_6', \n",
    "                            right_on= 'Field_Id', \n",
    "                            suffixes=['','_other']).drop('Field_Id_other',axis=1)"
   ]
  },
  {
   "cell_type": "code",
   "execution_count": 80,
   "metadata": {},
   "outputs": [],
   "source": [
    "features_df['distances_to_6'] = nearest_dist.apply(calc_distance, axis=1)"
   ]
  },
  {
   "cell_type": "code",
   "execution_count": 81,
   "metadata": {},
   "outputs": [],
   "source": [
    "nearest_dist = nearest_fields_df.merge(\n",
    "    stats_pivoted_df).merge(stats_pivoted_df, \n",
    "                            left_on = 'Field_Id_7', \n",
    "                            right_on= 'Field_Id', \n",
    "                            suffixes=['','_other']).drop('Field_Id_other',axis=1)"
   ]
  },
  {
   "cell_type": "code",
   "execution_count": 82,
   "metadata": {},
   "outputs": [],
   "source": [
    "features_df['distances_to_7'] = nearest_dist.apply(calc_distance, axis=1)"
   ]
  },
  {
   "cell_type": "code",
   "execution_count": 83,
   "metadata": {},
   "outputs": [],
   "source": [
    "nearest_dist = nearest_fields_df.merge(\n",
    "    stats_pivoted_df).merge(stats_pivoted_df, \n",
    "                            left_on = 'Field_Id_8', \n",
    "                            right_on= 'Field_Id', \n",
    "                            suffixes=['','_other']).drop('Field_Id_other',axis=1)"
   ]
  },
  {
   "cell_type": "code",
   "execution_count": 84,
   "metadata": {},
   "outputs": [],
   "source": [
    "features_df['distances_to_8'] = nearest_dist.apply(calc_distance, axis=1)"
   ]
  },
  {
   "cell_type": "code",
   "execution_count": 85,
   "metadata": {},
   "outputs": [],
   "source": [
    "nearest_dist = nearest_fields_df.merge(\n",
    "    stats_pivoted_df).merge(stats_pivoted_df, \n",
    "                            left_on = 'Field_Id_9', \n",
    "                            right_on= 'Field_Id', \n",
    "                            suffixes=['','_other']).drop('Field_Id_other',axis=1)"
   ]
  },
  {
   "cell_type": "code",
   "execution_count": 86,
   "metadata": {},
   "outputs": [],
   "source": [
    "features_df['distances_to_9'] = nearest_dist.apply(calc_distance, axis=1)"
   ]
  },
  {
   "cell_type": "code",
   "execution_count": 87,
   "metadata": {},
   "outputs": [],
   "source": [
    "nearest_dist = nearest_fields_df.merge(\n",
    "    stats_pivoted_df).merge(stats_pivoted_df, \n",
    "                            left_on = 'Field_Id_10', \n",
    "                            right_on= 'Field_Id', \n",
    "                            suffixes=['','_other']).drop('Field_Id_other',axis=1)"
   ]
  },
  {
   "cell_type": "code",
   "execution_count": 88,
   "metadata": {},
   "outputs": [],
   "source": [
    "features_df['distances_to_10'] = nearest_dist.apply(calc_distance, axis=1)"
   ]
  },
  {
   "cell_type": "code",
   "execution_count": 89,
   "metadata": {},
   "outputs": [],
   "source": [
    "features_df = features_df.merge(stats_pivoted_df, how='left')"
   ]
  },
  {
   "cell_type": "markdown",
   "metadata": {},
   "source": [
    "### Write features dataframe to disk"
   ]
  },
  {
   "cell_type": "code",
   "execution_count": 90,
   "metadata": {},
   "outputs": [
    {
     "data": {
      "text/plain": [
       "(3568, 1030)"
      ]
     },
     "execution_count": 90,
     "metadata": {},
     "output_type": "execute_result"
    }
   ],
   "source": [
    "features_df.shape"
   ]
  },
  {
   "cell_type": "code",
   "execution_count": null,
   "metadata": {},
   "outputs": [],
   "source": [
    "features_df.to_csv(data_path/'features.csv', index=False)"
   ]
  },
  {
   "cell_type": "code",
   "execution_count": null,
   "metadata": {},
   "outputs": [],
   "source": []
  }
 ],
 "metadata": {
  "kernelspec": {
   "display_name": "Python 3.6 - AzureML",
   "language": "python",
   "name": "python3-azureml"
  },
  "language_info": {
   "codemirror_mode": {
    "name": "ipython",
    "version": 3
   },
   "file_extension": ".py",
   "mimetype": "text/x-python",
   "name": "python",
   "nbconvert_exporter": "python",
   "pygments_lexer": "ipython3",
   "version": "3.6.8"
  }
 },
 "nbformat": 4,
 "nbformat_minor": 2
}
