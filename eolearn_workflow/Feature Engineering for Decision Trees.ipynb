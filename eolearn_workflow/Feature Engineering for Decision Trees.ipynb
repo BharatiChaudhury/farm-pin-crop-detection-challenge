{
 "cells": [
  {
   "cell_type": "code",
   "execution_count": 13,
   "metadata": {},
   "outputs": [],
   "source": [
    "import geopandas as gpd\n",
    "import pandas as pd\n",
    "import numpy as np\n",
    "import matplotlib as mpl\n",
    "import matplotlib.pyplot as plt\n",
    "from pathlib import Path\n",
    "\n",
    "from enum import Enum\n",
    "\n",
    "from shapely.geometry import Polygon\n",
    "\n",
    "# Imports from eo-learn and sentinelhub-py\n",
    "from eolearn.core import EOTask, EOPatch, LinearWorkflow, FeatureType, OverwritePermission, \\\n",
    "    LoadFromDisk, SaveToDisk, EOExecutor\n",
    "from eolearn.io import S2L1CWCSInput, ExportToTiff\n",
    "from eolearn.mask import AddCloudMaskTask, get_s2_pixel_cloud_detector, AddValidDataMaskTask\n",
    "from eolearn.geometry import VectorToRaster, PointSamplingTask, ErosionTask\n",
    "from eolearn.features import LinearInterpolation, SimpleFilterTask, InterpolationTask, ValueFilloutTask, \\\n",
    "    HaralickTask, HOGTask, AddSpatioTemporalFeaturesTask, AddMaxMinTemporalIndicesTask, \\\n",
    "    AddMaxMinNDVISlopeIndicesTask\n",
    "from sentinelhub import BBoxSplitter, BBox, CRS, CustomUrlParam\n",
    "\n",
    "from tqdm import tqdm "
   ]
  },
  {
   "cell_type": "code",
   "execution_count": 5,
   "metadata": {},
   "outputs": [],
   "source": [
    "output_path = Path('output')\n",
    "patch_path = output_path/'eopatches-large'\n",
    "path_out_features = output_path/'eopatches-features/'"
   ]
  },
  {
   "cell_type": "markdown",
   "metadata": {},
   "source": [
    "### Add texture features"
   ]
  },
  {
   "cell_type": "code",
   "execution_count": 30,
   "metadata": {},
   "outputs": [],
   "source": [
    "patch = EOPatch.load(patch_path/'eopatch_0')"
   ]
  },
  {
   "cell_type": "code",
   "execution_count": 31,
   "metadata": {},
   "outputs": [
    {
     "data": {
      "text/plain": [
       "EOPatch(\n",
       "  data: {\n",
       "    FEATURES: numpy.ndarray(shape=(8, 1353, 1335, 16), dtype=float64)\n",
       "  }\n",
       "  mask: {}\n",
       "  scalar: {}\n",
       "  label: {}\n",
       "  vector: {}\n",
       "  data_timeless: {}\n",
       "  mask_timeless: {\n",
       "    LULC: numpy.ndarray(shape=(1353, 1335, 1), dtype=uint8)\n",
       "    TEST_FIELD_ID: numpy.ndarray(shape=(1353, 1335, 1), dtype=uint16)\n",
       "    TRAIN_FIELD_ID: numpy.ndarray(shape=(1353, 1335, 1), dtype=uint16)\n",
       "  }\n",
       "  scalar_timeless: {}\n",
       "  label_timeless: {}\n",
       "  vector_timeless: {}\n",
       "  meta_info: {}\n",
       "  bbox: BBox(((535129.8381333639, 6846878.021770692), (548483.7166625774, 6860414.749511358)), crs=EPSG:32734)\n",
       "  timestamp: [datetime.datetime(2017, 1, 1, 0, 0), ..., datetime.datetime(2017, 7, 23, 0, 0)], length=8\n",
       ")"
      ]
     },
     "execution_count": 31,
     "metadata": {},
     "output_type": "execute_result"
    }
   ],
   "source": [
    "patch"
   ]
  },
  {
   "cell_type": "code",
   "execution_count": 33,
   "metadata": {},
   "outputs": [],
   "source": [
    "class MakeValidMap:\n",
    "    def __call__(self, eopatch):        \n",
    "        return np.logical_or(eopatch.mask_timeless['TEST_FIELD_ID']>0, \n",
    "                              eopatch.mask_timeless['TRAIN_FIELD_ID']>0)\n",
    "    "
   ]
  },
  {
   "cell_type": "code",
   "execution_count": 34,
   "metadata": {},
   "outputs": [],
   "source": [
    "# TASK TO LOAD EXISTING EOPATCHES\n",
    "load = LoadFromDisk(patch_path)\n",
    "\n",
    "haralick_entropy = HaralickTask(feature = (FeatureType.DATA, 'FEATURES'), \n",
    "                        texture_feature = 'sum_entropy')\n",
    "\n",
    "ret_true = lambda x: True\n",
    "\n",
    "add_valid = AddValidDataMaskTask(MakeValidMap(), 'VALID_DATA')\n",
    "\n",
    "temporal_indices = AddMaxMinTemporalIndicesTask(data_feature='FEATURES/5')\n",
    "\n",
    "save = SaveToDisk(path_out_features, overwrite_permission=OverwritePermission.OVERWRITE_PATCH)"
   ]
  },
  {
   "cell_type": "code",
   "execution_count": 35,
   "metadata": {},
   "outputs": [],
   "source": [
    "# Define the workflow\n",
    "workflow = LinearWorkflow(\n",
    "    load,\n",
    "    add_valid,\n",
    "    temporal_indices,\n",
    "    save\n",
    ")"
   ]
  },
  {
   "cell_type": "code",
   "execution_count": 36,
   "metadata": {},
   "outputs": [
    {
     "data": {
      "application/vnd.jupyter.widget-view+json": {
       "model_id": "9789d3d8a29b438fac8ade2acaab3aef",
       "version_major": 2,
       "version_minor": 0
      },
      "text/plain": [
       "HBox(children=(IntProgress(value=0, max=1), HTML(value='')))"
      ]
     },
     "metadata": {},
     "output_type": "display_data"
    },
    {
     "name": "stdout",
     "output_type": "stream",
     "text": [
      "CPU times: user 54.9 ms, sys: 63.9 ms, total: 119 ms\n",
      "Wall time: 845 ms\n"
     ]
    }
   ],
   "source": [
    "%%time\n",
    "   \n",
    "execution_args = []\n",
    "for idx in range(1):\n",
    "    execution_args.append({\n",
    "        load: {'eopatch_folder': 'eopatch_{}'.format(idx)},\n",
    "        save: {'eopatch_folder': 'eopatch_{}'.format(idx)}\n",
    "    })\n",
    "    \n",
    "executor = EOExecutor(workflow, execution_args, save_logs=True)\n",
    "executor.run(workers=5, multiprocess=True)\n",
    "\n",
    "executor.make_report()"
   ]
  },
  {
   "cell_type": "code",
   "execution_count": null,
   "metadata": {},
   "outputs": [],
   "source": []
  },
  {
   "cell_type": "markdown",
   "metadata": {},
   "source": [
    "### Load shape file"
   ]
  },
  {
   "cell_type": "code",
   "execution_count": 8,
   "metadata": {},
   "outputs": [],
   "source": [
    "train_test_gpdf = gpd.read_file(data_path/'train_test_shp')"
   ]
  },
  {
   "cell_type": "code",
   "execution_count": 9,
   "metadata": {},
   "outputs": [
    {
     "data": {
      "text/html": [
       "<div>\n",
       "<style scoped>\n",
       "    .dataframe tbody tr th:only-of-type {\n",
       "        vertical-align: middle;\n",
       "    }\n",
       "\n",
       "    .dataframe tbody tr th {\n",
       "        vertical-align: top;\n",
       "    }\n",
       "\n",
       "    .dataframe thead th {\n",
       "        text-align: right;\n",
       "    }\n",
       "</style>\n",
       "<table border=\"1\" class=\"dataframe\">\n",
       "  <thead>\n",
       "    <tr style=\"text-align: right;\">\n",
       "      <th></th>\n",
       "      <th>Area</th>\n",
       "      <th>Crop_Id_Ne</th>\n",
       "      <th>Field_Id</th>\n",
       "      <th>Subregion</th>\n",
       "      <th>train_test</th>\n",
       "      <th>tile</th>\n",
       "      <th>geometry</th>\n",
       "    </tr>\n",
       "  </thead>\n",
       "  <tbody>\n",
       "    <tr>\n",
       "      <td>0</td>\n",
       "      <td>0.915905</td>\n",
       "      <td>8</td>\n",
       "      <td>1</td>\n",
       "      <td>3</td>\n",
       "      <td>train</td>\n",
       "      <td>T34JFP</td>\n",
       "      <td>POLYGON ((613924.3324000851 6793991.295069702,...</td>\n",
       "    </tr>\n",
       "    <tr>\n",
       "      <td>1</td>\n",
       "      <td>2.064410</td>\n",
       "      <td>6</td>\n",
       "      <td>2</td>\n",
       "      <td>3</td>\n",
       "      <td>train</td>\n",
       "      <td>T34JFP</td>\n",
       "      <td>POLYGON ((614404.0717397591 6794020.579634549,...</td>\n",
       "    </tr>\n",
       "    <tr>\n",
       "      <td>2</td>\n",
       "      <td>1.080300</td>\n",
       "      <td>8</td>\n",
       "      <td>3</td>\n",
       "      <td>3</td>\n",
       "      <td>train</td>\n",
       "      <td>T34JFP</td>\n",
       "      <td>POLYGON ((614320.2146632321 6793964.242091182,...</td>\n",
       "    </tr>\n",
       "    <tr>\n",
       "      <td>3</td>\n",
       "      <td>1.316190</td>\n",
       "      <td>8</td>\n",
       "      <td>4</td>\n",
       "      <td>3</td>\n",
       "      <td>train</td>\n",
       "      <td>T34JFP</td>\n",
       "      <td>POLYGON ((614560.5326844405 6794002.249461887,...</td>\n",
       "    </tr>\n",
       "    <tr>\n",
       "      <td>4</td>\n",
       "      <td>5.529220</td>\n",
       "      <td>8</td>\n",
       "      <td>7</td>\n",
       "      <td>3</td>\n",
       "      <td>train</td>\n",
       "      <td>T34JFP</td>\n",
       "      <td>POLYGON ((614596.6564746551 6794269.865436315,...</td>\n",
       "    </tr>\n",
       "  </tbody>\n",
       "</table>\n",
       "</div>"
      ],
      "text/plain": [
       "       Area Crop_Id_Ne  Field_Id  Subregion train_test    tile  \\\n",
       "0  0.915905          8         1          3      train  T34JFP   \n",
       "1  2.064410          6         2          3      train  T34JFP   \n",
       "2  1.080300          8         3          3      train  T34JFP   \n",
       "3  1.316190          8         4          3      train  T34JFP   \n",
       "4  5.529220          8         7          3      train  T34JFP   \n",
       "\n",
       "                                            geometry  \n",
       "0  POLYGON ((613924.3324000851 6793991.295069702,...  \n",
       "1  POLYGON ((614404.0717397591 6794020.579634549,...  \n",
       "2  POLYGON ((614320.2146632321 6793964.242091182,...  \n",
       "3  POLYGON ((614560.5326844405 6794002.249461887,...  \n",
       "4  POLYGON ((614596.6564746551 6794269.865436315,...  "
      ]
     },
     "execution_count": 9,
     "metadata": {},
     "output_type": "execute_result"
    }
   ],
   "source": [
    "train_test_gpdf.head()"
   ]
  },
  {
   "cell_type": "markdown",
   "metadata": {},
   "source": [
    "### Centroid"
   ]
  },
  {
   "cell_type": "code",
   "execution_count": 24,
   "metadata": {},
   "outputs": [],
   "source": [
    "def get_centroidx(g): return g.centroid.xy[0][0]\n",
    "\n",
    "def get_centroidy(g): return g.centroid.xy[1][0]\n",
    "\n",
    "def get_centroid(g): return g.centroid\n",
    "\n",
    "train_test_gpdf['centroid']=train_test_gpdf.geometry.apply(get_centroid)\n",
    "train_test_gpdf['centroid_x']=train_test_gpdf.geometry.apply(get_centroidx)\n",
    "train_test_gpdf['centroid_y']=train_test_gpdf.geometry.apply(get_centroidy)"
   ]
  },
  {
   "cell_type": "markdown",
   "metadata": {},
   "source": [
    "### Nearest neighbouring farms"
   ]
  },
  {
   "cell_type": "code",
   "execution_count": 44,
   "metadata": {},
   "outputs": [],
   "source": [
    "def nearest(row, geom_union, df2, geom1_col='geometry', geom2_col='geometry', src_column=None): \n",
    "    \"\"\"Find the nearest point and return the corresponding value from specified column.\"\"\"\n",
    "\n",
    "    # Find the geometry that is closest\n",
    "    nearest = df2[geom2_col] == nearest_points(row[geom1_col], geom_union)[1]\n",
    "\n",
    "    # Get the corresponding value from df2 (matching is based on the geometry)\n",
    "    value = df2[nearest][src_column].get_values()[0]\n",
    "\n",
    "    return value\n",
    "\n",
    "def nearest_Field(row, gpdf): \n",
    "    mask = ((gpdf.Field_Id!=row.Field_Id)\n",
    "            &(gpdf.train_test=='train'))\n",
    "    return nearest(row, \n",
    "                   geom_union=gpdf[mask].centroid.unary_union, \n",
    "                   df2=gpdf, \n",
    "                   geom1_col='centroid', \n",
    "                   geom2_col='centroid', \n",
    "                   src_column='Field_Id')\n",
    "\n",
    "def second_nearest_Field(row, gpdf): \n",
    "    mask = ((gpdf.Field_Id!=row.Field_Id)\n",
    "            &(gpdf.Field_Id!=row.Field_Id_1)\n",
    "            &(gpdf.train_test=='train'))\n",
    "    return nearest(row, \n",
    "                   geom_union=gpdf[mask].centroid.unary_union, \n",
    "                   df2=gpdf, \n",
    "                   geom1_col='centroid', \n",
    "                   geom2_col='centroid', \n",
    "                   src_column='Field_Id')\n",
    "\n",
    "def third_nearest_Field(row, gpdf): \n",
    "    mask = ((gpdf.Field_Id!=row.Field_Id)\n",
    "            &(gpdf.Field_Id!=row.Field_Id_1)\n",
    "            &(gpdf.Field_Id!=row.Field_Id_2)\n",
    "            &(gpdf.train_test=='train'))\n",
    "    return nearest(row, \n",
    "                   geom_union=gpdf[mask].centroid.unary_union, \n",
    "                   df2=gpdf, \n",
    "                   geom1_col='centroid', \n",
    "                   geom2_col='centroid', \n",
    "                   src_column='Field_Id')\n",
    "\n",
    "def fourth_nearest_Field(row, gpdf): \n",
    "    mask = ((gpdf.Field_Id!=row.Field_Id)\n",
    "            &(gpdf.Field_Id!=row.Field_Id_1)\n",
    "            &(gpdf.Field_Id!=row.Field_Id_2)\n",
    "            &(gpdf.Field_Id!=row.Field_Id_3)\n",
    "            &(gpdf.train_test=='train'))\n",
    "    return nearest(row, \n",
    "                   geom_union=gpdf[mask].centroid.unary_union, \n",
    "                   df2=gpdf, \n",
    "                   geom1_col='centroid', \n",
    "                   geom2_col='centroid', \n",
    "                   src_column='Field_Id')\n",
    "\n",
    "def fifth_nearest_Field(row, gpdf): \n",
    "    mask = ((gpdf.Field_Id!=row.Field_Id)\n",
    "            &(gpdf.Field_Id!=row.Field_Id_1)\n",
    "            &(gpdf.Field_Id!=row.Field_Id_2)\n",
    "            &(gpdf.Field_Id!=row.Field_Id_3)\n",
    "            &(gpdf.Field_Id!=row.Field_Id_4)\n",
    "            &(gpdf.train_test=='train'))\n",
    "    return nearest(row, \n",
    "                   geom_union=gpdf[mask].centroid.unary_union, \n",
    "                   df2=gpdf, \n",
    "                   geom1_col='centroid', \n",
    "                   geom2_col='centroid', \n",
    "                   src_column='Field_Id')\n",
    "\n",
    "def sixth_nearest_Field(row, gpdf): \n",
    "    mask = ((gpdf.Field_Id!=row.Field_Id)\n",
    "            &(gpdf.Field_Id!=row.Field_Id_1)\n",
    "            &(gpdf.Field_Id!=row.Field_Id_2)\n",
    "            &(gpdf.Field_Id!=row.Field_Id_3)\n",
    "            &(gpdf.Field_Id!=row.Field_Id_4)\n",
    "            &(gpdf.Field_Id!=row.Field_Id_5)\n",
    "            &(gpdf.train_test=='train'))\n",
    "    return nearest(row, \n",
    "                   geom_union=gpdf[mask].centroid.unary_union, \n",
    "                   df2=gpdf, \n",
    "                   geom1_col='centroid', \n",
    "                   geom2_col='centroid', \n",
    "                   src_column='Field_Id')\n",
    "\n",
    "\n",
    "def seventh_nearest_Field(row, gpdf): \n",
    "    mask = ((gpdf.Field_Id!=row.Field_Id)\n",
    "            &(gpdf.Field_Id!=row.Field_Id_1)\n",
    "            &(gpdf.Field_Id!=row.Field_Id_2)\n",
    "            &(gpdf.Field_Id!=row.Field_Id_3)\n",
    "            &(gpdf.Field_Id!=row.Field_Id_4)\n",
    "            &(gpdf.Field_Id!=row.Field_Id_5)\n",
    "            &(gpdf.Field_Id!=row.Field_Id_6)\n",
    "            &(gpdf.train_test=='train'))\n",
    "    return nearest(row, \n",
    "                   geom_union=gpdf[mask].centroid.unary_union, \n",
    "                   df2=gpdf, \n",
    "                   geom1_col='centroid', \n",
    "                   geom2_col='centroid', \n",
    "                   src_column='Field_Id')\n",
    "\n",
    "\n",
    "def eighth_nearest_Field(row, gpdf): \n",
    "    mask = ((gpdf.Field_Id!=row.Field_Id)\n",
    "            &(gpdf.Field_Id!=row.Field_Id_1)\n",
    "            &(gpdf.Field_Id!=row.Field_Id_2)\n",
    "            &(gpdf.Field_Id!=row.Field_Id_3)\n",
    "            &(gpdf.Field_Id!=row.Field_Id_4)\n",
    "            &(gpdf.Field_Id!=row.Field_Id_5)\n",
    "            &(gpdf.Field_Id!=row.Field_Id_6)\n",
    "            &(gpdf.Field_Id!=row.Field_Id_7)\n",
    "            &(gpdf.train_test=='train'))\n",
    "    return nearest(row, \n",
    "                   geom_union=gpdf[mask].centroid.unary_union, \n",
    "                   df2=gpdf, \n",
    "                   geom1_col='centroid', \n",
    "                   geom2_col='centroid', \n",
    "                   src_column='Field_Id')\n",
    "\n",
    "\n",
    "def ninth_nearest_Field(row, gpdf): \n",
    "    mask = ((gpdf.Field_Id!=row.Field_Id)\n",
    "            &(gpdf.Field_Id!=row.Field_Id_1)\n",
    "            &(gpdf.Field_Id!=row.Field_Id_2)\n",
    "            &(gpdf.Field_Id!=row.Field_Id_3)\n",
    "            &(gpdf.Field_Id!=row.Field_Id_4)\n",
    "            &(gpdf.Field_Id!=row.Field_Id_5)\n",
    "            &(gpdf.Field_Id!=row.Field_Id_6)\n",
    "            &(gpdf.Field_Id!=row.Field_Id_7)\n",
    "            &(gpdf.Field_Id!=row.Field_Id_8)\n",
    "            &(gpdf.train_test=='train'))\n",
    "    return nearest(row, \n",
    "                   geom_union=gpdf[mask].centroid.unary_union, \n",
    "                   df2=gpdf, \n",
    "                   geom1_col='centroid', \n",
    "                   geom2_col='centroid', \n",
    "                   src_column='Field_Id')\n",
    "\n",
    "\n",
    "def tenth_nearest_Field(row, gpdf): \n",
    "    mask = ((gpdf.Field_Id!=row.Field_Id)\n",
    "            &(gpdf.Field_Id!=row.Field_Id_1)\n",
    "            &(gpdf.Field_Id!=row.Field_Id_2)\n",
    "            &(gpdf.Field_Id!=row.Field_Id_3)\n",
    "            &(gpdf.Field_Id!=row.Field_Id_4)\n",
    "            &(gpdf.Field_Id!=row.Field_Id_5)\n",
    "            &(gpdf.Field_Id!=row.Field_Id_6)\n",
    "            &(gpdf.Field_Id!=row.Field_Id_7)\n",
    "            &(gpdf.Field_Id!=row.Field_Id_8)\n",
    "            &(gpdf.Field_Id!=row.Field_Id_9)\n",
    "            &(gpdf.train_test=='train'))\n",
    "    return nearest(row, \n",
    "                   geom_union=gpdf[mask].centroid.unary_union, \n",
    "                   df2=gpdf, \n",
    "                   geom1_col='centroid', \n",
    "                   geom2_col='centroid', \n",
    "                   src_column='Field_Id')"
   ]
  },
  {
   "cell_type": "code",
   "execution_count": 26,
   "metadata": {},
   "outputs": [
    {
     "name": "stderr",
     "output_type": "stream",
     "text": [
      "/anaconda/envs/py36/lib/python3.6/site-packages/ipykernel/__main__.py:8: FutureWarning: The 'get_values' method is deprecated and will be removed in a future version. Use '.to_numpy()' or '.array' instead.\n"
     ]
    },
    {
     "name": "stdout",
     "output_type": "stream",
     "text": [
      "CPU times: user 8min 29s, sys: 0 ns, total: 8min 29s\n",
      "Wall time: 8min 29s\n"
     ]
    }
   ],
   "source": [
    "%%time\n",
    "train_test_gpdf['Field_Id_1'] = train_test_gpdf.apply(\n",
    "    partial(nearest_Field, gpdf=train_test_gpdf), axis=1)"
   ]
  },
  {
   "cell_type": "code",
   "execution_count": 27,
   "metadata": {},
   "outputs": [
    {
     "name": "stderr",
     "output_type": "stream",
     "text": [
      "/anaconda/envs/py36/lib/python3.6/site-packages/ipykernel/__main__.py:8: FutureWarning: The 'get_values' method is deprecated and will be removed in a future version. Use '.to_numpy()' or '.array' instead.\n"
     ]
    },
    {
     "name": "stdout",
     "output_type": "stream",
     "text": [
      "CPU times: user 8min 7s, sys: 0 ns, total: 8min 7s\n",
      "Wall time: 8min 8s\n"
     ]
    }
   ],
   "source": [
    "%%time\n",
    "train_test_gpdf['Field_Id_2'] = train_test_gpdf.apply(\n",
    "    partial(second_nearest_Field, gpdf=train_test_gpdf), axis=1)"
   ]
  },
  {
   "cell_type": "code",
   "execution_count": 28,
   "metadata": {},
   "outputs": [
    {
     "name": "stderr",
     "output_type": "stream",
     "text": [
      "/anaconda/envs/py36/lib/python3.6/site-packages/ipykernel/__main__.py:8: FutureWarning: The 'get_values' method is deprecated and will be removed in a future version. Use '.to_numpy()' or '.array' instead.\n"
     ]
    },
    {
     "name": "stdout",
     "output_type": "stream",
     "text": [
      "CPU times: user 8min 3s, sys: 0 ns, total: 8min 3s\n",
      "Wall time: 8min 8s\n"
     ]
    }
   ],
   "source": [
    "%%time\n",
    "train_test_gpdf['Field_Id_3'] = train_test_gpdf.apply(\n",
    "    partial(third_nearest_Field, gpdf=train_test_gpdf), axis=1)"
   ]
  },
  {
   "cell_type": "code",
   "execution_count": 37,
   "metadata": {},
   "outputs": [
    {
     "name": "stderr",
     "output_type": "stream",
     "text": [
      "/anaconda/envs/py36/lib/python3.6/site-packages/ipykernel/__main__.py:8: FutureWarning: The 'get_values' method is deprecated and will be removed in a future version. Use '.to_numpy()' or '.array' instead.\n"
     ]
    },
    {
     "name": "stdout",
     "output_type": "stream",
     "text": [
      "CPU times: user 7min 56s, sys: 129 ms, total: 7min 56s\n",
      "Wall time: 7min 56s\n"
     ]
    }
   ],
   "source": [
    "%%time\n",
    "train_test_gpdf['Field_Id_4'] = train_test_gpdf.apply(\n",
    "    partial(fourth_nearest_Field, gpdf=train_test_gpdf), axis=1)"
   ]
  },
  {
   "cell_type": "code",
   "execution_count": 38,
   "metadata": {},
   "outputs": [
    {
     "name": "stderr",
     "output_type": "stream",
     "text": [
      "/anaconda/envs/py36/lib/python3.6/site-packages/ipykernel/__main__.py:8: FutureWarning: The 'get_values' method is deprecated and will be removed in a future version. Use '.to_numpy()' or '.array' instead.\n"
     ]
    },
    {
     "name": "stdout",
     "output_type": "stream",
     "text": [
      "CPU times: user 8min 3s, sys: 132 ms, total: 8min 3s\n",
      "Wall time: 8min 3s\n"
     ]
    }
   ],
   "source": [
    "%%time\n",
    "train_test_gpdf['Field_Id_5'] = train_test_gpdf.apply(\n",
    "    partial(fifth_nearest_Field, gpdf=train_test_gpdf), axis=1)"
   ]
  },
  {
   "cell_type": "code",
   "execution_count": 39,
   "metadata": {},
   "outputs": [
    {
     "name": "stderr",
     "output_type": "stream",
     "text": [
      "/anaconda/envs/py36/lib/python3.6/site-packages/ipykernel/__main__.py:8: FutureWarning: The 'get_values' method is deprecated and will be removed in a future version. Use '.to_numpy()' or '.array' instead.\n"
     ]
    },
    {
     "name": "stdout",
     "output_type": "stream",
     "text": [
      "CPU times: user 7min 56s, sys: 86 ms, total: 7min 56s\n",
      "Wall time: 7min 56s\n"
     ]
    }
   ],
   "source": [
    "%%time\n",
    "train_test_gpdf['Field_Id_6'] = train_test_gpdf.apply(\n",
    "    partial(sixth_nearest_Field, gpdf=train_test_gpdf), axis=1)"
   ]
  },
  {
   "cell_type": "code",
   "execution_count": 40,
   "metadata": {},
   "outputs": [
    {
     "name": "stderr",
     "output_type": "stream",
     "text": [
      "/anaconda/envs/py36/lib/python3.6/site-packages/ipykernel/__main__.py:8: FutureWarning: The 'get_values' method is deprecated and will be removed in a future version. Use '.to_numpy()' or '.array' instead.\n"
     ]
    },
    {
     "name": "stdout",
     "output_type": "stream",
     "text": [
      "CPU times: user 7min 58s, sys: 99.8 ms, total: 7min 58s\n",
      "Wall time: 7min 58s\n"
     ]
    }
   ],
   "source": [
    "%%time\n",
    "train_test_gpdf['Field_Id_7'] = train_test_gpdf.apply(\n",
    "    partial(seventh_nearest_Field, gpdf=train_test_gpdf), axis=1)"
   ]
  },
  {
   "cell_type": "code",
   "execution_count": 45,
   "metadata": {},
   "outputs": [
    {
     "name": "stderr",
     "output_type": "stream",
     "text": [
      "/anaconda/envs/py36/lib/python3.6/site-packages/ipykernel/__main__.py:8: FutureWarning: The 'get_values' method is deprecated and will be removed in a future version. Use '.to_numpy()' or '.array' instead.\n"
     ]
    },
    {
     "name": "stdout",
     "output_type": "stream",
     "text": [
      "CPU times: user 8min 12s, sys: 128 ms, total: 8min 12s\n",
      "Wall time: 8min 12s\n"
     ]
    }
   ],
   "source": [
    "%%time\n",
    "train_test_gpdf['Field_Id_8'] = train_test_gpdf.apply(\n",
    "    partial(eighth_nearest_Field, gpdf=train_test_gpdf), axis=1)"
   ]
  },
  {
   "cell_type": "code",
   "execution_count": 46,
   "metadata": {},
   "outputs": [
    {
     "name": "stderr",
     "output_type": "stream",
     "text": [
      "/anaconda/envs/py36/lib/python3.6/site-packages/ipykernel/__main__.py:8: FutureWarning: The 'get_values' method is deprecated and will be removed in a future version. Use '.to_numpy()' or '.array' instead.\n"
     ]
    },
    {
     "name": "stdout",
     "output_type": "stream",
     "text": [
      "CPU times: user 8min 13s, sys: 136 ms, total: 8min 13s\n",
      "Wall time: 8min 13s\n"
     ]
    }
   ],
   "source": [
    "%%time\n",
    "train_test_gpdf['Field_Id_9'] = train_test_gpdf.apply(\n",
    "    partial(ninth_nearest_Field, gpdf=train_test_gpdf), axis=1)"
   ]
  },
  {
   "cell_type": "code",
   "execution_count": 47,
   "metadata": {},
   "outputs": [
    {
     "name": "stderr",
     "output_type": "stream",
     "text": [
      "/anaconda/envs/py36/lib/python3.6/site-packages/ipykernel/__main__.py:8: FutureWarning: The 'get_values' method is deprecated and will be removed in a future version. Use '.to_numpy()' or '.array' instead.\n"
     ]
    },
    {
     "name": "stdout",
     "output_type": "stream",
     "text": [
      "CPU times: user 8min 14s, sys: 164 ms, total: 8min 15s\n",
      "Wall time: 8min 15s\n"
     ]
    }
   ],
   "source": [
    "%%time\n",
    "train_test_gpdf['Field_Id_10'] = train_test_gpdf.apply(\n",
    "    partial(tenth_nearest_Field, gpdf=train_test_gpdf), axis=1)"
   ]
  },
  {
   "cell_type": "code",
   "execution_count": 49,
   "metadata": {},
   "outputs": [],
   "source": [
    "train_test_gpdf[['Field_Id', \n",
    "                  'Field_Id_1', \n",
    "                  'Field_Id_2', \n",
    "                  'Field_Id_3', \n",
    "                  'Field_Id_4', \n",
    "                  'Field_Id_5', \n",
    "                  'Field_Id_6', \n",
    "                  'Field_Id_7', \n",
    "                  'Field_Id_8', \n",
    "                  'Field_Id_9', \n",
    "                  'Field_Id_10']].to_csv(data_path/'nearest_fields.csv', index=False)"
   ]
  },
  {
   "cell_type": "markdown",
   "metadata": {},
   "source": [
    "### Add count of corners"
   ]
  },
  {
   "cell_type": "code",
   "execution_count": 50,
   "metadata": {},
   "outputs": [],
   "source": [
    "def count_corners(r): \n",
    "    return len(r.geometry.boundary.xy[0])-1\n",
    "\n",
    "train_test_gpdf['corners'] = train_test_gpdf.apply(count_corners,axis=1)"
   ]
  },
  {
   "cell_type": "markdown",
   "metadata": {},
   "source": [
    "### Add a metric for how far from square the field is"
   ]
  },
  {
   "cell_type": "code",
   "execution_count": 51,
   "metadata": {},
   "outputs": [],
   "source": [
    "def circ_to_area(r): \n",
    "    return (r.geometry.boundary.length/4)/((r.geometry.area)**.5)\n",
    "\n",
    "train_test_gpdf['squareness'] = train_test_gpdf.apply(circ_to_area,axis=1)"
   ]
  },
  {
   "cell_type": "code",
   "execution_count": 52,
   "metadata": {},
   "outputs": [],
   "source": [
    "def cooerce_float(x):\n",
    "    if '--' in str(x): return 0\n",
    "    else: return float(x)"
   ]
  },
  {
   "cell_type": "code",
   "execution_count": 53,
   "metadata": {},
   "outputs": [],
   "source": [
    "converters = {'std': cooerce_float,\n",
    "            'mean': cooerce_float,\n",
    "            'min': cooerce_float,\n",
    "            'max': cooerce_float}"
   ]
  },
  {
   "cell_type": "markdown",
   "metadata": {},
   "source": [
    "### Flatten statistics dataframe"
   ]
  },
  {
   "cell_type": "code",
   "execution_count": 54,
   "metadata": {},
   "outputs": [],
   "source": [
    "stats_df = pd.read_csv(data_path/'statistics_per_band.csv', converters=converters)"
   ]
  },
  {
   "cell_type": "code",
   "execution_count": 55,
   "metadata": {},
   "outputs": [],
   "source": [
    "stats_no_tiles_df = stats_df.groupby(['Field_Id', 'date', 'band']).agg(np.mean).reset_index()"
   ]
  },
  {
   "cell_type": "code",
   "execution_count": 56,
   "metadata": {},
   "outputs": [],
   "source": [
    "stats_no_tiles_df['date_band'] = stats_no_tiles_df.date + '_' + stats_no_tiles_df.band"
   ]
  },
  {
   "cell_type": "code",
   "execution_count": 57,
   "metadata": {},
   "outputs": [],
   "source": [
    "stats_pivoted_df = stats_no_tiles_df.pivot_table(\n",
    "        index=['Field_Id'], \n",
    "        columns=['date_band'], \n",
    "        values=['std', \n",
    "                'mean', \n",
    "                'median', \n",
    "                'min',\n",
    "                'max', \n",
    "                'dissimilarity', \n",
    "                'contrast', \n",
    "                'homogeneity', \n",
    "                'energy',\n",
    "                'correlation'])"
   ]
  },
  {
   "cell_type": "code",
   "execution_count": 58,
   "metadata": {},
   "outputs": [],
   "source": [
    "stats_pivoted_df.columns = stats_pivoted_df.columns.map('_'.join)"
   ]
  },
  {
   "cell_type": "code",
   "execution_count": 59,
   "metadata": {},
   "outputs": [],
   "source": [
    "stats_pivoted_df.reset_index(inplace=True)"
   ]
  },
  {
   "cell_type": "code",
   "execution_count": 60,
   "metadata": {},
   "outputs": [
    {
     "ename": "NameError",
     "evalue": "name 'nearest_fields_df' is not defined",
     "output_type": "error",
     "traceback": [
      "\u001b[0;31m---------------------------------------------------------------------------\u001b[0m",
      "\u001b[0;31mNameError\u001b[0m                                 Traceback (most recent call last)",
      "\u001b[0;32m<ipython-input-60-2a5199717d98>\u001b[0m in \u001b[0;36m<module>\u001b[0;34m\u001b[0m\n\u001b[0;32m----> 1\u001b[0;31m \u001b[0mtrain_test_gpdf\u001b[0m \u001b[0;34m=\u001b[0m \u001b[0mtrain_test_gpdf\u001b[0m\u001b[0;34m.\u001b[0m\u001b[0mmerge\u001b[0m\u001b[0;34m(\u001b[0m\u001b[0mnearest_fields_df\u001b[0m\u001b[0;34m)\u001b[0m\u001b[0;34m\u001b[0m\u001b[0;34m\u001b[0m\u001b[0m\n\u001b[0m",
      "\u001b[0;31mNameError\u001b[0m: name 'nearest_fields_df' is not defined"
     ]
    }
   ],
   "source": [
    "train_test_gpdf = train_test_gpdf.merge(nearest_fields_df)"
   ]
  },
  {
   "cell_type": "code",
   "execution_count": 63,
   "metadata": {},
   "outputs": [],
   "source": [
    "features_df = train_test_gpdf[['Field_Id', \n",
    "                 'train_test', \n",
    "                 'Crop_Id_Ne', \n",
    "                 'Subregion', \n",
    "                 'tile', \n",
    "                 'Area', \n",
    "                 'corners', \n",
    "                 'squareness',\n",
    "                 'centroid_x',\n",
    "                 'centroid_y',\n",
    "                 'Field_Id_1', \n",
    "                 'Field_Id_2', \n",
    "                 'Field_Id_3',\n",
    "                 'Field_Id_4', \n",
    "                 'Field_Id_5',\n",
    "                 'Field_Id_6', \n",
    "                 'Field_Id_7',\n",
    "                 'Field_Id_8', \n",
    "                 'Field_Id_9',\n",
    "                 'Field_Id_10']]"
   ]
  },
  {
   "cell_type": "code",
   "execution_count": 64,
   "metadata": {},
   "outputs": [],
   "source": [
    "features_df = features_df.merge(\n",
    "                features_df[['Field_Id','Crop_Id_Ne']], \n",
    "                left_on='Field_Id_1', \n",
    "                right_on='Field_Id',\n",
    "                suffixes=['','_nf_1']).drop('Field_Id_nf_1',axis=1)\n",
    "\n",
    "features_df = features_df.merge(\n",
    "                features_df[['Field_Id','Crop_Id_Ne']], \n",
    "                left_on='Field_Id_2', \n",
    "                right_on='Field_Id',\n",
    "                suffixes=['','_nf_2']).drop('Field_Id_nf_2',axis=1)\n",
    "\n",
    "features_df = features_df.merge(\n",
    "                features_df[['Field_Id','Crop_Id_Ne']], \n",
    "                left_on='Field_Id_3', \n",
    "                right_on='Field_Id',\n",
    "                suffixes=['','_nf_3']).drop('Field_Id_nf_3',axis=1)\n",
    "\n",
    "\n",
    "features_df = features_df.merge(\n",
    "                features_df[['Field_Id','Crop_Id_Ne']], \n",
    "                left_on='Field_Id_4', \n",
    "                right_on='Field_Id',\n",
    "                suffixes=['','_nf_4']).drop('Field_Id_nf_4',axis=1)\n",
    "\n",
    "\n",
    "features_df = features_df.merge(\n",
    "                features_df[['Field_Id','Crop_Id_Ne']], \n",
    "                left_on='Field_Id_5', \n",
    "                right_on='Field_Id',\n",
    "                suffixes=['','_nf_5']).drop('Field_Id_nf_5',axis=1)\n",
    "\n",
    "\n",
    "features_df = features_df.merge(\n",
    "                features_df[['Field_Id','Crop_Id_Ne']], \n",
    "                left_on='Field_Id_6', \n",
    "                right_on='Field_Id',\n",
    "                suffixes=['','_nf_6']).drop('Field_Id_nf_6',axis=1)\n",
    "\n",
    "\n",
    "features_df = features_df.merge(\n",
    "                features_df[['Field_Id','Crop_Id_Ne']], \n",
    "                left_on='Field_Id_7', \n",
    "                right_on='Field_Id',\n",
    "                suffixes=['','_nf_7']).drop('Field_Id_nf_7',axis=1)\n",
    "\n",
    "\n",
    "features_df = features_df.merge(\n",
    "                features_df[['Field_Id','Crop_Id_Ne']], \n",
    "                left_on='Field_Id_8', \n",
    "                right_on='Field_Id',\n",
    "                suffixes=['','_nf_8']).drop('Field_Id_nf_8',axis=1)\n",
    "\n",
    "\n",
    "features_df = features_df.merge(\n",
    "                features_df[['Field_Id','Crop_Id_Ne']], \n",
    "                left_on='Field_Id_9', \n",
    "                right_on='Field_Id',\n",
    "                suffixes=['','_nf_9']).drop('Field_Id_nf_9',axis=1)\n",
    "\n",
    "\n",
    "features_df = features_df.merge(\n",
    "                features_df[['Field_Id','Crop_Id_Ne']], \n",
    "                left_on='Field_Id_10', \n",
    "                right_on='Field_Id',\n",
    "                suffixes=['','_nf_10']).drop('Field_Id_nf_10',axis=1)"
   ]
  },
  {
   "cell_type": "markdown",
   "metadata": {},
   "source": [
    "### Compute distances to nearest fields"
   ]
  },
  {
   "cell_type": "code",
   "execution_count": 66,
   "metadata": {},
   "outputs": [],
   "source": [
    "nearest_fields_df = features_df[['Field_Id',\n",
    "                                 'Field_Id_1',\n",
    "                                 'Field_Id_2',\n",
    "                                 'Field_Id_3',\n",
    "                                 'Field_Id_4',\n",
    "                                 'Field_Id_5',\n",
    "                                 'Field_Id_6',\n",
    "                                 'Field_Id_7',\n",
    "                                 'Field_Id_8',\n",
    "                                 'Field_Id_9',\n",
    "                                 'Field_Id_10']]"
   ]
  },
  {
   "cell_type": "code",
   "execution_count": 68,
   "metadata": {},
   "outputs": [],
   "source": [
    "nearest_dist = nearest_fields_df.merge(\n",
    "    stats_pivoted_df).merge(stats_pivoted_df, \n",
    "                            left_on = 'Field_Id_1', \n",
    "                            right_on= 'Field_Id', \n",
    "                            suffixes=['','_other']).drop('Field_Id_other',axis=1)"
   ]
  },
  {
   "cell_type": "code",
   "execution_count": 69,
   "metadata": {},
   "outputs": [],
   "source": [
    "cols = [c for c in nearest_dist if '_other' not in c and 'Field' not in c]\n",
    "other_cols = [c for c in nearest_dist if '_other' in c and 'Field' not in c]\n",
    "\n",
    "def calc_distance(row):\n",
    "    return ((row[cols].values - row[other_cols].values)**2).mean()**.5"
   ]
  },
  {
   "cell_type": "code",
   "execution_count": 70,
   "metadata": {},
   "outputs": [],
   "source": [
    "features_df['distances_to_1'] = nearest_dist.apply(calc_distance, axis=1)"
   ]
  },
  {
   "cell_type": "code",
   "execution_count": 71,
   "metadata": {},
   "outputs": [],
   "source": [
    "nearest_dist = nearest_fields_df.merge(\n",
    "    stats_pivoted_df).merge(stats_pivoted_df, \n",
    "                            left_on = 'Field_Id_2', \n",
    "                            right_on= 'Field_Id', \n",
    "                            suffixes=['','_other']).drop('Field_Id_other',axis=1)"
   ]
  },
  {
   "cell_type": "code",
   "execution_count": 72,
   "metadata": {},
   "outputs": [],
   "source": [
    "features_df['distances_to_2'] = nearest_dist.apply(calc_distance, axis=1)"
   ]
  },
  {
   "cell_type": "code",
   "execution_count": 73,
   "metadata": {},
   "outputs": [],
   "source": [
    "nearest_dist = nearest_fields_df.merge(\n",
    "    stats_pivoted_df).merge(stats_pivoted_df, \n",
    "                            left_on = 'Field_Id_3', \n",
    "                            right_on= 'Field_Id', \n",
    "                            suffixes=['','_other']).drop('Field_Id_other',axis=1)"
   ]
  },
  {
   "cell_type": "code",
   "execution_count": 74,
   "metadata": {},
   "outputs": [],
   "source": [
    "features_df['distances_to_3'] = nearest_dist.apply(calc_distance, axis=1)"
   ]
  },
  {
   "cell_type": "code",
   "execution_count": 75,
   "metadata": {},
   "outputs": [],
   "source": [
    "nearest_dist = nearest_fields_df.merge(\n",
    "    stats_pivoted_df).merge(stats_pivoted_df, \n",
    "                            left_on = 'Field_Id_4', \n",
    "                            right_on= 'Field_Id', \n",
    "                            suffixes=['','_other']).drop('Field_Id_other',axis=1)"
   ]
  },
  {
   "cell_type": "code",
   "execution_count": 76,
   "metadata": {},
   "outputs": [],
   "source": [
    "features_df['distances_to_4'] = nearest_dist.apply(calc_distance, axis=1)"
   ]
  },
  {
   "cell_type": "code",
   "execution_count": 77,
   "metadata": {},
   "outputs": [],
   "source": [
    "nearest_dist = nearest_fields_df.merge(\n",
    "    stats_pivoted_df).merge(stats_pivoted_df, \n",
    "                            left_on = 'Field_Id_5', \n",
    "                            right_on= 'Field_Id', \n",
    "                            suffixes=['','_other']).drop('Field_Id_other',axis=1)"
   ]
  },
  {
   "cell_type": "code",
   "execution_count": 78,
   "metadata": {},
   "outputs": [],
   "source": [
    "features_df['distances_to_5'] = nearest_dist.apply(calc_distance, axis=1)"
   ]
  },
  {
   "cell_type": "code",
   "execution_count": 79,
   "metadata": {},
   "outputs": [],
   "source": [
    "nearest_dist = nearest_fields_df.merge(\n",
    "    stats_pivoted_df).merge(stats_pivoted_df, \n",
    "                            left_on = 'Field_Id_6', \n",
    "                            right_on= 'Field_Id', \n",
    "                            suffixes=['','_other']).drop('Field_Id_other',axis=1)"
   ]
  },
  {
   "cell_type": "code",
   "execution_count": 80,
   "metadata": {},
   "outputs": [],
   "source": [
    "features_df['distances_to_6'] = nearest_dist.apply(calc_distance, axis=1)"
   ]
  },
  {
   "cell_type": "code",
   "execution_count": 81,
   "metadata": {},
   "outputs": [],
   "source": [
    "nearest_dist = nearest_fields_df.merge(\n",
    "    stats_pivoted_df).merge(stats_pivoted_df, \n",
    "                            left_on = 'Field_Id_7', \n",
    "                            right_on= 'Field_Id', \n",
    "                            suffixes=['','_other']).drop('Field_Id_other',axis=1)"
   ]
  },
  {
   "cell_type": "code",
   "execution_count": 82,
   "metadata": {},
   "outputs": [],
   "source": [
    "features_df['distances_to_7'] = nearest_dist.apply(calc_distance, axis=1)"
   ]
  },
  {
   "cell_type": "code",
   "execution_count": 83,
   "metadata": {},
   "outputs": [],
   "source": [
    "nearest_dist = nearest_fields_df.merge(\n",
    "    stats_pivoted_df).merge(stats_pivoted_df, \n",
    "                            left_on = 'Field_Id_8', \n",
    "                            right_on= 'Field_Id', \n",
    "                            suffixes=['','_other']).drop('Field_Id_other',axis=1)"
   ]
  },
  {
   "cell_type": "code",
   "execution_count": 84,
   "metadata": {},
   "outputs": [],
   "source": [
    "features_df['distances_to_8'] = nearest_dist.apply(calc_distance, axis=1)"
   ]
  },
  {
   "cell_type": "code",
   "execution_count": 85,
   "metadata": {},
   "outputs": [],
   "source": [
    "nearest_dist = nearest_fields_df.merge(\n",
    "    stats_pivoted_df).merge(stats_pivoted_df, \n",
    "                            left_on = 'Field_Id_9', \n",
    "                            right_on= 'Field_Id', \n",
    "                            suffixes=['','_other']).drop('Field_Id_other',axis=1)"
   ]
  },
  {
   "cell_type": "code",
   "execution_count": 86,
   "metadata": {},
   "outputs": [],
   "source": [
    "features_df['distances_to_9'] = nearest_dist.apply(calc_distance, axis=1)"
   ]
  },
  {
   "cell_type": "code",
   "execution_count": 87,
   "metadata": {},
   "outputs": [],
   "source": [
    "nearest_dist = nearest_fields_df.merge(\n",
    "    stats_pivoted_df).merge(stats_pivoted_df, \n",
    "                            left_on = 'Field_Id_10', \n",
    "                            right_on= 'Field_Id', \n",
    "                            suffixes=['','_other']).drop('Field_Id_other',axis=1)"
   ]
  },
  {
   "cell_type": "code",
   "execution_count": 88,
   "metadata": {},
   "outputs": [],
   "source": [
    "features_df['distances_to_10'] = nearest_dist.apply(calc_distance, axis=1)"
   ]
  },
  {
   "cell_type": "code",
   "execution_count": 89,
   "metadata": {},
   "outputs": [],
   "source": [
    "features_df = features_df.merge(stats_pivoted_df, how='left')"
   ]
  },
  {
   "cell_type": "markdown",
   "metadata": {},
   "source": [
    "### Write features dataframe to disk"
   ]
  },
  {
   "cell_type": "code",
   "execution_count": 90,
   "metadata": {},
   "outputs": [
    {
     "data": {
      "text/plain": [
       "(3568, 1030)"
      ]
     },
     "execution_count": 90,
     "metadata": {},
     "output_type": "execute_result"
    }
   ],
   "source": [
    "features_df.shape"
   ]
  },
  {
   "cell_type": "code",
   "execution_count": null,
   "metadata": {},
   "outputs": [],
   "source": [
    "features_df.to_csv(data_path/'features.csv', index=False)"
   ]
  },
  {
   "cell_type": "code",
   "execution_count": null,
   "metadata": {},
   "outputs": [],
   "source": []
  }
 ],
 "metadata": {
  "kernelspec": {
   "display_name": "Python 3.6 - AzureML",
   "language": "python",
   "name": "python3-azureml"
  },
  "language_info": {
   "codemirror_mode": {
    "name": "ipython",
    "version": 3
   },
   "file_extension": ".py",
   "mimetype": "text/x-python",
   "name": "python",
   "nbconvert_exporter": "python",
   "pygments_lexer": "ipython3",
   "version": "3.6.8"
  }
 },
 "nbformat": 4,
 "nbformat_minor": 2
}
