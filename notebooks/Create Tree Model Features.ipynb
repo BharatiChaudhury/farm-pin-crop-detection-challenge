{
 "cells": [
  {
   "cell_type": "code",
   "execution_count": 1,
   "metadata": {},
   "outputs": [],
   "source": [
    "from pathlib import Path\n",
    "\n",
    "from scipy import stats\n",
    "import geopandas as gpd\n",
    "import pandas as pd\n",
    "import numpy as np\n",
    "import matplotlib.pyplot as plt\n",
    "\n",
    "from shapely.geometry import MultiPoint, Point, Polygon\n",
    "from shapely.ops import split, snap, nearest_points"
   ]
  },
  {
   "cell_type": "markdown",
   "metadata": {},
   "source": [
    "### Paths"
   ]
  },
  {
   "cell_type": "code",
   "execution_count": null,
   "metadata": {},
   "outputs": [],
   "source": [
    "data_path = Path('../data')\n",
    "sentinel_path = data_path/'sentinel'\n",
    "output_path = Path('output')\n",
    "shape_path = Path('output/shapes')\n",
    "patch_path = Path('output/patches')\n",
    "feature_path = Path('output/features')\n",
    "\n",
    "feature_path.mkdir(exist_ok=True, parents=True)\n",
    "shape_path.mkdir(exist_ok=True, parents=True)"
   ]
  },
  {
   "cell_type": "markdown",
   "metadata": {},
   "source": [
    "### Create statistics from imagery features"
   ]
  },
  {
   "cell_type": "code",
   "execution_count": 118,
   "metadata": {},
   "outputs": [],
   "source": [
    "def calculate_stats(data, aggs, aggregation_axis=0, stacking_axis=-1):\n",
    "    stats_list = []\n",
    "    for agg in aggs:\n",
    "        stats_list.append(agg(data, axis=aggregation_axis))\n",
    "    \n",
    "    return np.stack(stats_list, axis=stacking_axis)\n",
    "        "
   ]
  },
  {
   "cell_type": "code",
   "execution_count": 63,
   "metadata": {},
   "outputs": [],
   "source": [
    "aggs = [np.mean,    \n",
    "        np.min,\n",
    "        np.max,\n",
    "        np.median,\n",
    "        np.std]\n",
    "\n",
    "field_ids              = []\n",
    "\n",
    "features_stats         = []\n",
    "composite_max_ndvi     = []\n",
    "composite_min_ndvi     = []\n",
    "composite_max_ndvi_lbp = []\n",
    "composite_min_ndvi_lbp = []\n",
    "composite_max_ndvi_hog = []\n",
    "composite_min_ndvi_hog = []\n",
    "\n",
    "argmax_b4              = []\n",
    "argmin_b4              = []\n",
    "argmax_ndvi            = []\n",
    "argmin_ndvi            = []\n",
    "argmax_ndvi_slope      = []\n",
    "argmin_ndvi_slope      = []\n",
    "stf                    = []\n",
    "\n",
    "for i in range(12):\n",
    "    patch = EOPatch.load(feature_path/f'eopatch_{i}')\n",
    "\n",
    "    field_id_mask = (patch.mask_timeless['FIELD_ID'] > 0).squeeze()\n",
    "    \n",
    "    field_ids              .append(patch.mask_timeless['FIELD_ID'][field_id_mask].squeeze())\n",
    "    \n",
    "    features_stats         .append(calculate_stats(patch.data['FEATURES'],aggs=aggs)[field_id_mask,...])                 #(5, 1345, 1328, 6)\n",
    "    composite_max_ndvi     .append(patch.data['COMPOSITE_MAX_NDVI'][0,field_id_mask,:])                                  #(1, 1345, 1328, 6)\n",
    "    composite_min_ndvi     .append(patch.data['COMPOSITE_MIN_NDVI'][0,field_id_mask,:])                                  #(1, 1345, 1328, 6)\n",
    "    composite_max_ndvi_lbp .append(patch.data['COMPOSITE_MAX_NDVI_LBP'][0,field_id_mask,:])                              #(1, 1345, 1328, 6)\n",
    "    composite_min_ndvi_lbp .append(patch.data['COMPOSITE_MIN_NDVI_LBP'][0,field_id_mask,:])                              #(1, 1345, 1328, 6)\n",
    "    composite_max_ndvi_hog .append(patch.data['COMPOSITE_MAX_NDVI_HOG'][0,field_id_mask,:])                              #(1, 1345, 1328, 9)\n",
    "    composite_min_ndvi_hog .append(patch.data['COMPOSITE_MIN_NDVI_HOG'][0,field_id_mask,:])                              #(1, 1345, 1328, 9)\n",
    "                                   \n",
    "    argmax_b4              .append(patch.data_timeless['ARGMAX_B4'][field_id_mask,:])                                    #(1345, 1328, 1)\n",
    "    argmin_b4              .append(patch.data_timeless['ARGMIN_B4'][field_id_mask,:])                                    #(1345, 1328, 1)\n",
    "    argmax_ndvi            .append(patch.data_timeless['ARGMAX_NDVI'][field_id_mask,:])                                  #(1345, 1328, 1)\n",
    "    argmin_ndvi            .append(patch.data_timeless['ARGMIN_NDVI'][field_id_mask,:])                                  #(1345, 1328, 1)\n",
    "    argmax_ndvi_slope      .append(patch.data_timeless['ARGMAX_NDVI_SLOPE'][field_id_mask,:])                            #(1345, 1328, 1)\n",
    "    argmin_ndvi_slope      .append(patch.data_timeless['ARGMIN_NDVI_SLOPE'][field_id_mask,:])                            #(1345, 1328, 1)\n",
    "    stf                    .append(patch.data_timeless['STF'][field_id_mask,:])                                          #(1345, 1328, 20)"
   ]
  },
  {
   "cell_type": "code",
   "execution_count": 64,
   "metadata": {},
   "outputs": [],
   "source": [
    "field_ids_arr              = np.concatenate(field_ids              , axis = 0)\n",
    "\n",
    "features_stats_arr         = np.concatenate(features_stats         , axis = 0)\n",
    "\n",
    "composite_max_ndvi_arr     = np.concatenate(composite_max_ndvi     , axis = 0)\n",
    "composite_min_ndvi_arr     = np.concatenate(composite_min_ndvi     , axis = 0)\n",
    "composite_max_ndvi_lbp_arr = np.concatenate(composite_max_ndvi_lbp , axis = 0)\n",
    "composite_min_ndvi_lbp_arr = np.concatenate(composite_min_ndvi_lbp , axis = 0)\n",
    "composite_max_ndvi_hog_arr = np.concatenate(composite_max_ndvi_hog , axis = 0)\n",
    "composite_min_ndvi_hog_arr = np.concatenate(composite_min_ndvi_hog , axis = 0)\n",
    "\n",
    "argmax_b4_arr              = np.concatenate(argmax_b4              , axis = 0)\n",
    "argmin_b4_arr              = np.concatenate(argmin_b4              , axis = 0)\n",
    "argmax_ndvi_arr            = np.concatenate(argmax_ndvi            , axis = 0)\n",
    "argmin_ndvi_arr            = np.concatenate(argmin_ndvi            , axis = 0)\n",
    "argmax_ndvi_slope_arr      = np.concatenate(argmax_ndvi_slope      , axis = 0)\n",
    "argmin_ndvi_slope_arr      = np.concatenate(argmin_ndvi_slope      , axis = 0)\n",
    "\n",
    "stf_arr                    = np.concatenate(stf                    , axis = 0)"
   ]
  },
  {
   "cell_type": "code",
   "execution_count": 81,
   "metadata": {},
   "outputs": [],
   "source": [
    "red_arr   = features_stats_arr[:,0,:]\n",
    "green_arr = features_stats_arr[:,1,:]\n",
    "blue_arr  = features_stats_arr[:,2,:]\n",
    "nir_arr   = features_stats_arr[:,3,:]\n",
    "ndvi_arr  = features_stats_arr[:,4,:]\n",
    "norm_arr  = features_stats_arr[:,5,:]"
   ]
  },
  {
   "cell_type": "code",
   "execution_count": 105,
   "metadata": {},
   "outputs": [],
   "source": [
    "def mode(a, axis=0):\n",
    "    return stats.mode(a,axis=axis)[0][0]"
   ]
  },
  {
   "cell_type": "code",
   "execution_count": 106,
   "metadata": {},
   "outputs": [],
   "source": [
    "arr_list = [\n",
    "    ('red_t_med'              , red_arr                    , [np.median]),\n",
    "    ('green_t_med'            , green_arr                  , [np.median]),\n",
    "    ('blue_t_med'             , blue_arr                   , [np.median]),\n",
    "    ('nir_t_med'              , nir_arr                    , [np.median]),\n",
    "    ('ndvi_t_med'             , ndvi_arr                   , [np.median]),\n",
    "    ('norm_t_med'             , norm_arr                   , [np.median]),\n",
    "    ('composite_max_ndvi'     , composite_max_ndvi_arr     , aggs),\n",
    "    ('composite_min_ndvi'     , composite_min_ndvi_arr     , aggs),\n",
    "    ('composite_max_ndvi_lbp' , composite_max_ndvi_lbp_arr , aggs),\n",
    "    ('composite_min_ndvi_lbp' , composite_min_ndvi_lbp_arr , aggs),\n",
    "    ('composite_max_ndvi_hog' , composite_max_ndvi_hog_arr , aggs),\n",
    "    ('composite_min_ndvi_hog' , composite_min_ndvi_hog_arr , aggs),\n",
    "    ('argmax_b4'              , argmax_b4_arr              , [mode]),\n",
    "    ('argmin_b4'              , argmin_b4_arr              , [mode]),\n",
    "    ('argmax_ndvi'            , argmax_ndvi_arr            , [mode]),\n",
    "    ('argmin_ndvi'            , argmin_ndvi_arr            , [mode]),\n",
    "    ('argmax_ndvi_slope'      , argmax_ndvi_slope_arr      , [mode]),\n",
    "    ('argmin_ndvi_slope'      , argmin_ndvi_slope_arr      , [mode]),\n",
    "    ('stf_arr'                , stf_arr                    , aggs)]"
   ]
  },
  {
   "cell_type": "markdown",
   "metadata": {},
   "source": [
    "### Create dataset with statistics for each field "
   ]
  },
  {
   "cell_type": "code",
   "execution_count": 120,
   "metadata": {},
   "outputs": [],
   "source": [
    "rows = []\n",
    "\n",
    "for fid in train_test_gpdf.Field_Id:\n",
    "    fid_mask = field_ids_arr==fid\n",
    "    fid_dic = {'Field_Id': fid}\n",
    "    for name, arr, funcs in arr_list:\n",
    "        for i in range(arr.shape[-1]):\n",
    "            for f in funcs:\n",
    "                fid_dic[f'{name}_{f.__name__}_{i}'] = f(arr[fid_mask,i],axis=0)\n",
    "    \n",
    "    rows.append(fid_dic)"
   ]
  },
  {
   "cell_type": "markdown",
   "metadata": {},
   "source": [
    "### Save stats to disk"
   ]
  },
  {
   "cell_type": "code",
   "execution_count": 121,
   "metadata": {},
   "outputs": [],
   "source": [
    "poly_img_stats_df = pd.DataFrame(rows)\n",
    "poly_img_stats_df.to_csv(data_path/'polygon_img_statistics.csv', index=False)"
   ]
  },
  {
   "cell_type": "markdown",
   "metadata": {},
   "source": [
    "### Read in polygon image statistics"
   ]
  },
  {
   "cell_type": "code",
   "execution_count": 3,
   "metadata": {},
   "outputs": [],
   "source": [
    "poly_img_stats_df = pd.read_csv(data_path/'polygon_img_statistics.csv')"
   ]
  },
  {
   "cell_type": "markdown",
   "metadata": {},
   "source": [
    "#### Read in train and test shape file and csv file"
   ]
  },
  {
   "cell_type": "code",
   "execution_count": 4,
   "metadata": {},
   "outputs": [],
   "source": [
    "train_test_shp = gpd.read_file(data_path/'train_test_shp')"
   ]
  },
  {
   "cell_type": "markdown",
   "metadata": {},
   "source": [
    "### Add shape and river features"
   ]
  },
  {
   "cell_type": "code",
   "execution_count": 5,
   "metadata": {},
   "outputs": [],
   "source": [
    "orange_river_segment_shp = gpd.read_file('../data/orange_river_segment/'\n",
    "                                        ).to_crs({'init': 'epsg:32734'})"
   ]
  },
  {
   "cell_type": "code",
   "execution_count": 6,
   "metadata": {},
   "outputs": [
    {
     "data": {
      "text/plain": [
       "<matplotlib.axes._subplots.AxesSubplot at 0x7fe2eae73c50>"
      ]
     },
     "execution_count": 6,
     "metadata": {},
     "output_type": "execute_result"
    },
    {
     "data": {
      "image/png": "[encoded data removed]",
      "text/plain": [
       "<Figure size 720x720 with 1 Axes>"
      ]
     },
     "metadata": {
      "needs_background": "light"
     },
     "output_type": "display_data"
    }
   ],
   "source": [
    "ax = train_test_shp.plot(figsize=(10,10))\n",
    "orange_river_segment_shp.plot(ax=ax, color = 'red')"
   ]
  },
  {
   "cell_type": "code",
   "execution_count": 7,
   "metadata": {},
   "outputs": [],
   "source": [
    "def nearest_neighbor_within(others, point, max_distance):\n",
    "    \"\"\"Find nearest point among others up to a maximum distance.\n",
    "    \n",
    "    Args:\n",
    "        others: a list of Points or a MultiPoint\n",
    "        point: a Point\n",
    "        max_distance: maximum distance to search for the nearest neighbor\n",
    "        \n",
    "    Returns:\n",
    "        A shapely Point if one is within max_distance, None otherwise\n",
    "    \"\"\"\n",
    "    search_region = point.buffer(max_distance)\n",
    "    interesting_points = search_region.intersection(MultiPoint(others))\n",
    "    \n",
    "    if not interesting_points:\n",
    "        closest_point = None\n",
    "    elif isinstance(interesting_points, Point):\n",
    "        closest_point = interesting_points\n",
    "    else:            \n",
    "        distances = [point.distance(ip) for ip in interesting_points\n",
    "                     if point.distance(ip) > 0]\n",
    "        closest_point = interesting_points[distances.index(min(distances))]\n",
    "    \n",
    "    return closest_point\n",
    "\n",
    "def get_distance_along_line(gdf_line, poly, tolerance=10000):\n",
    "    # union all geometries\n",
    "    line = gdf_line.geometry.unary_union\n",
    "    \n",
    "    point = poly.centroid\n",
    "\n",
    "    split_line = split(line, nearest_neighbor_within(line.coords,point,tolerance))\n",
    "    \n",
    "    return split_line[0].length\n",
    "\n",
    "def get_distance_from_line(gdf_line, poly, tolerance=10000):\n",
    "    # union all geometries\n",
    "    line = gdf_line.geometry.unary_union\n",
    "    \n",
    "    point = poly.centroid\n",
    "    \n",
    "    return point.distance(nearest_neighbor_within(line.coords,point,tolerance))\n",
    "\n",
    "def get_side_of_line(gdf_line, poly, tolerance=10000):\n",
    "    # union all geometries\n",
    "    line = gdf_line.geometry.unary_union\n",
    "    \n",
    "    point = poly.centroid\n",
    "    \n",
    "    nearest_point = nearest_neighbor_within(line.coords,point,tolerance)\n",
    "    \n",
    "    if (nearest_point.coords.xy[0] < point.coords.xy[0] \n",
    "        and nearest_point.coords.xy[1] < point.coords.xy[1]):\n",
    "        return 'NE'\n",
    "    else:\n",
    "        return 'SW'\n",
    "    \n",
    "    return point.distance()"
   ]
  },
  {
   "cell_type": "code",
   "execution_count": 8,
   "metadata": {},
   "outputs": [],
   "source": [
    "train_test_shp['distance_along_river'] = train_test_shp.geometry.apply(\n",
    "    lambda x: get_distance_along_line(orange_river_segment_shp, x))"
   ]
  },
  {
   "cell_type": "code",
   "execution_count": 9,
   "metadata": {},
   "outputs": [],
   "source": [
    "train_test_shp['distance_from_river'] = train_test_shp.geometry.apply(\n",
    "    lambda x: get_distance_from_line(orange_river_segment_shp, x))"
   ]
  },
  {
   "cell_type": "code",
   "execution_count": 10,
   "metadata": {},
   "outputs": [],
   "source": [
    "train_test_shp['side_of_river'] = train_test_shp.geometry.apply(\n",
    "    lambda x: get_side_of_line(orange_river_segment_shp, x))"
   ]
  },
  {
   "cell_type": "code",
   "execution_count": 11,
   "metadata": {},
   "outputs": [],
   "source": [
    "train_test_shp['centroid_x'] = train_test_shp.geometry.apply(lambda x: x.centroid.coords.xy[0][0])\n",
    "train_test_shp['centroid_y'] = train_test_shp.geometry.apply(lambda x: x.centroid.coords.xy[1][0])"
   ]
  },
  {
   "cell_type": "code",
   "execution_count": 12,
   "metadata": {},
   "outputs": [],
   "source": [
    "train_test_shp['corner_count'] = train_test_shp.geometry.apply(lambda x: len(x.boundary.coords))"
   ]
  },
  {
   "cell_type": "code",
   "execution_count": 13,
   "metadata": {},
   "outputs": [],
   "source": [
    "train_test_shp['squareness'] = train_test_shp.geometry.apply(lambda x: (x.area**.5)/(x.boundary.length/4))"
   ]
  },
  {
   "cell_type": "markdown",
   "metadata": {},
   "source": [
    "### Count number of each crop in a radius around polygon"
   ]
  },
  {
   "cell_type": "code",
   "execution_count": 14,
   "metadata": {},
   "outputs": [],
   "source": [
    "def count_nearby_crops(row):\n",
    "    search_region = row.geometry.buffer(300)\n",
    "    crop_list = []\n",
    "    \n",
    "    for i, r in train_test_shp.iterrows():\n",
    "        if row.Field_Id != r.Field_Id and r.geometry.within(search_region):\n",
    "            crop_list.append(r.Crop_Id_Ne)\n",
    "\n",
    "    crop_counts = {}\n",
    "    crops = ['1', '2', '3', '4', '5', '6', '7', '8', '9']\n",
    "    for crop in crops:\n",
    "        crop_counts[f'nearby_crop_{crop}_count'] = crop_list.count(crop)\n",
    "        \n",
    "    crop_counts['total_nearby_crop_count']  = sum([c for c in crop_counts.values() if c!='-1'])\n",
    "    \n",
    "    for crop in crops:\n",
    "        crop_counts[f'nearby_crop_{crop}_prop'] = crop_counts[f'nearby_crop_{crop}_count']/max(crop_counts['total_nearby_crop_count'],1)\n",
    "    \n",
    "    crop_counts['total_nearby_field_count'] = len(crop_list)\n",
    "    crop_counts['Field_Id'] = row.Field_Id\n",
    "    return crop_counts"
   ]
  },
  {
   "cell_type": "code",
   "execution_count": 28,
   "metadata": {},
   "outputs": [],
   "source": [
    "from joblib import Parallel, delayed\n",
    "from tqdm import tqdm\n",
    "\n",
    "def apply_count_nearby_crops(df):\n",
    "    return list(df.apply(count_nearby_crops,axis=1))\n",
    "\n",
    "bs = 223\n",
    "dfs = [train_test_shp.iloc[i*bs:min((i+1)*bs,len(train_test_shp))] for i in range(len(train_test_shp)//bs)]"
   ]
  },
  {
   "cell_type": "code",
   "execution_count": 30,
   "metadata": {},
   "outputs": [],
   "source": [
    "lists = Parallel(n_jobs=-1)(delayed(apply_count_nearby_crops)(df) for df in dfs)"
   ]
  },
  {
   "cell_type": "code",
   "execution_count": 31,
   "metadata": {},
   "outputs": [],
   "source": [
    "crop_count_df = pd.concat([pd.DataFrame(l) for l in lists])"
   ]
  },
  {
   "cell_type": "code",
   "execution_count": 32,
   "metadata": {},
   "outputs": [],
   "source": [
    "crop_count_df.to_csv(data_path/'nearby_crop_count.csv', index=False)"
   ]
  },
  {
   "cell_type": "code",
   "execution_count": 33,
   "metadata": {},
   "outputs": [],
   "source": [
    "shape_features = train_test_shp.merge(crop_count_df, how='left', on='Field_Id')"
   ]
  },
  {
   "cell_type": "markdown",
   "metadata": {},
   "source": [
    "### Join with polygon image stats"
   ]
  },
  {
   "cell_type": "code",
   "execution_count": 38,
   "metadata": {},
   "outputs": [],
   "source": [
    "shape_and_img_features = shape_features.merge(poly_img_stats_df, how='left', on='Field_Id')"
   ]
  },
  {
   "cell_type": "code",
   "execution_count": 39,
   "metadata": {},
   "outputs": [],
   "source": [
    "shape_and_img_features.to_csv(data_path/'features.csv', index=False)"
   ]
  },
  {
   "cell_type": "code",
   "execution_count": 41,
   "metadata": {},
   "outputs": [
    {
     "data": {
      "text/plain": [
       "(3568, 380)"
      ]
     },
     "execution_count": 41,
     "metadata": {},
     "output_type": "execute_result"
    }
   ],
   "source": [
    "shape_and_img_features.shape"
   ]
  }
 ],
 "metadata": {
  "kernelspec": {
   "display_name": "Python 3",
   "language": "python",
   "name": "python3"
  },
  "language_info": {
   "codemirror_mode": {
    "name": "ipython",
    "version": 3
   },
   "file_extension": ".py",
   "mimetype": "text/x-python",
   "name": "python",
   "nbconvert_exporter": "python",
   "pygments_lexer": "ipython3",
   "version": "3.7.3"
  }
 },
 "nbformat": 4,
 "nbformat_minor": 2
}
